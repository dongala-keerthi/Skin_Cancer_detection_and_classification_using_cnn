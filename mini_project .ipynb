{
  "nbformat": 4,
  "nbformat_minor": 0,
  "metadata": {
    "colab": {
      "provenance": []
    },
    "kernelspec": {
      "name": "python3",
      "display_name": "Python 3"
    },
    "language_info": {
      "name": "python"
    }
  },
  "cells": [
    {
      "cell_type": "code",
      "execution_count": 1,
      "metadata": {
        "id": "dd29GKyLLn1m"
      },
      "outputs": [],
      "source": [
        "#importing the required libraries\n",
        "import pandas as pd\n",
        "import numpy as np\n",
        "import torch\n",
        "import seaborn as sns\n",
        "import matplotlib as plt\n",
        "import warnings\n",
        "warnings.filterwarnings('ignore')"
      ]
    },
    {
      "cell_type": "code",
      "source": [
        "#unzip and load dataset\n",
        "!unzip hmnist_28_28_RGB.csv.zip"
      ],
      "metadata": {
        "colab": {
          "base_uri": "https://localhost:8080/"
        },
        "id": "aPyFEAAmL4pd",
        "outputId": "7dc9ca30-5343-4fda-b9e2-b004c399fa7b"
      },
      "execution_count": 2,
      "outputs": [
        {
          "output_type": "stream",
          "name": "stdout",
          "text": [
            "Archive:  hmnist_28_28_RGB.csv.zip\n",
            "  inflating: hmnist_28_28_RGB.csv    \n"
          ]
        }
      ]
    },
    {
      "cell_type": "code",
      "source": [
        "data_path='hmnist_28_28_RGB.csv'\n",
        "data_frame=pd.read_csv(data_path)\n",
        "data_frame.head(20)"
      ],
      "metadata": {
        "colab": {
          "base_uri": "https://localhost:8080/",
          "height": 769
        },
        "id": "ZDBZ284ZL70Z",
        "outputId": "77f8d643-5f4a-4d0d-ef51-fa7b395095d4"
      },
      "execution_count": 3,
      "outputs": [
        {
          "output_type": "execute_result",
          "data": {
            "text/plain": [
              "    pixel0000  pixel0001  pixel0002  pixel0003  pixel0004  pixel0005  \\\n",
              "0         192        153        193        195        155        192   \n",
              "1          25         14         30         68         48         75   \n",
              "2         192        138        153        200        145        163   \n",
              "3          38         19         30         95         59         72   \n",
              "4         158        113        139        194        144        174   \n",
              "5           8          1          3         19          5         10   \n",
              "6         194        147        137        197        148        139   \n",
              "7         161        121        105        169        128        119   \n",
              "8         125         84         85        165        114        118   \n",
              "9         228        179        194        227        174        191   \n",
              "10         23         13         16         22         12         14   \n",
              "11        159        129        127        166        136        135   \n",
              "12         37         22         22        100         74         61   \n",
              "13        155        131        142        160        135        146   \n",
              "14        193        164        192        194        162        190   \n",
              "15        197        158        179        201        160        182   \n",
              "16        171        133        142        176        141        153   \n",
              "17        212        160        173        214        157        173   \n",
              "18        166        131        138        174        139        145   \n",
              "19        217        179        200        219        183        203   \n",
              "\n",
              "    pixel0006  pixel0007  pixel0008  pixel0009  ...  pixel2343  pixel2344  \\\n",
              "0         197        154        185        202  ...        173        124   \n",
              "1         123         93        126        158  ...         60         39   \n",
              "2         201        142        160        206  ...        167        129   \n",
              "3         143        103        119        171  ...         44         26   \n",
              "4         215        162        191        225  ...        209        166   \n",
              "5          26          8         13         34  ...         12          3   \n",
              "6         197        148        132        200  ...        211        160   \n",
              "7         172        129        116        176  ...        141        103   \n",
              "8         181        120        125        188  ...        119         80   \n",
              "9         226        165        182        215  ...        217        142   \n",
              "10         29         20         24         76  ...        183        164   \n",
              "11        170        140        142        170  ...        172        143   \n",
              "12        145        119        111        155  ...         19          8   \n",
              "13        165        139        157        168  ...        168        140   \n",
              "14        195        166        193        195  ...        196        164   \n",
              "15        201        160        182        202  ...        212        173   \n",
              "16        180        144        153        183  ...        166        123   \n",
              "17        219        169        185        220  ...        208        143   \n",
              "18        185        155        163        187  ...        117         88   \n",
              "19        219        183        205        220  ...        220        182   \n",
              "\n",
              "    pixel2345  pixel2346  pixel2347  pixel2348  pixel2349  pixel2350  \\\n",
              "0         138        183        147        166        185        154   \n",
              "1          55         25         14         28         25         14   \n",
              "2         143        159        124        142        136        104   \n",
              "3          36         25         12         17         25         12   \n",
              "4         185        172        135        149        109         78   \n",
              "5           7          5          0          1          4          0   \n",
              "6         163        211        162        166        208        162   \n",
              "7          92         87         59         56         32         18   \n",
              "8          79         62         35         41         19          8   \n",
              "9         156        219        154        166        216        146   \n",
              "10        170        174        157        160        139        124   \n",
              "11        155        150        121        131        114         85   \n",
              "12         12         20         11         14         15          9   \n",
              "13        159        164        141        157        158        135   \n",
              "14        192        194        163        187        194        164   \n",
              "15        204        212        174        202        214        183   \n",
              "16        129        147        106        107        109         69   \n",
              "17        162        204        137        156        201        139   \n",
              "18         95         45         28         35          9          4   \n",
              "19        197        222        186        206        220        185   \n",
              "\n",
              "    pixel2351  label  \n",
              "0         177      2  \n",
              "1          27      2  \n",
              "2         117      2  \n",
              "3          15      2  \n",
              "4          92      2  \n",
              "5           0      2  \n",
              "6         166      2  \n",
              "7          19      2  \n",
              "8          13      2  \n",
              "9         154      2  \n",
              "10        125      2  \n",
              "11         87      2  \n",
              "12         12      2  \n",
              "13        151      2  \n",
              "14        189      2  \n",
              "15        207      2  \n",
              "16         71      2  \n",
              "17        159      2  \n",
              "18         10      2  \n",
              "19        203      2  \n",
              "\n",
              "[20 rows x 2353 columns]"
            ],
            "text/html": [
              "\n",
              "\n",
              "  <div id=\"df-1462fc89-23fc-47fb-96d7-0b13a524753e\">\n",
              "    <div class=\"colab-df-container\">\n",
              "      <div>\n",
              "<style scoped>\n",
              "    .dataframe tbody tr th:only-of-type {\n",
              "        vertical-align: middle;\n",
              "    }\n",
              "\n",
              "    .dataframe tbody tr th {\n",
              "        vertical-align: top;\n",
              "    }\n",
              "\n",
              "    .dataframe thead th {\n",
              "        text-align: right;\n",
              "    }\n",
              "</style>\n",
              "<table border=\"1\" class=\"dataframe\">\n",
              "  <thead>\n",
              "    <tr style=\"text-align: right;\">\n",
              "      <th></th>\n",
              "      <th>pixel0000</th>\n",
              "      <th>pixel0001</th>\n",
              "      <th>pixel0002</th>\n",
              "      <th>pixel0003</th>\n",
              "      <th>pixel0004</th>\n",
              "      <th>pixel0005</th>\n",
              "      <th>pixel0006</th>\n",
              "      <th>pixel0007</th>\n",
              "      <th>pixel0008</th>\n",
              "      <th>pixel0009</th>\n",
              "      <th>...</th>\n",
              "      <th>pixel2343</th>\n",
              "      <th>pixel2344</th>\n",
              "      <th>pixel2345</th>\n",
              "      <th>pixel2346</th>\n",
              "      <th>pixel2347</th>\n",
              "      <th>pixel2348</th>\n",
              "      <th>pixel2349</th>\n",
              "      <th>pixel2350</th>\n",
              "      <th>pixel2351</th>\n",
              "      <th>label</th>\n",
              "    </tr>\n",
              "  </thead>\n",
              "  <tbody>\n",
              "    <tr>\n",
              "      <th>0</th>\n",
              "      <td>192</td>\n",
              "      <td>153</td>\n",
              "      <td>193</td>\n",
              "      <td>195</td>\n",
              "      <td>155</td>\n",
              "      <td>192</td>\n",
              "      <td>197</td>\n",
              "      <td>154</td>\n",
              "      <td>185</td>\n",
              "      <td>202</td>\n",
              "      <td>...</td>\n",
              "      <td>173</td>\n",
              "      <td>124</td>\n",
              "      <td>138</td>\n",
              "      <td>183</td>\n",
              "      <td>147</td>\n",
              "      <td>166</td>\n",
              "      <td>185</td>\n",
              "      <td>154</td>\n",
              "      <td>177</td>\n",
              "      <td>2</td>\n",
              "    </tr>\n",
              "    <tr>\n",
              "      <th>1</th>\n",
              "      <td>25</td>\n",
              "      <td>14</td>\n",
              "      <td>30</td>\n",
              "      <td>68</td>\n",
              "      <td>48</td>\n",
              "      <td>75</td>\n",
              "      <td>123</td>\n",
              "      <td>93</td>\n",
              "      <td>126</td>\n",
              "      <td>158</td>\n",
              "      <td>...</td>\n",
              "      <td>60</td>\n",
              "      <td>39</td>\n",
              "      <td>55</td>\n",
              "      <td>25</td>\n",
              "      <td>14</td>\n",
              "      <td>28</td>\n",
              "      <td>25</td>\n",
              "      <td>14</td>\n",
              "      <td>27</td>\n",
              "      <td>2</td>\n",
              "    </tr>\n",
              "    <tr>\n",
              "      <th>2</th>\n",
              "      <td>192</td>\n",
              "      <td>138</td>\n",
              "      <td>153</td>\n",
              "      <td>200</td>\n",
              "      <td>145</td>\n",
              "      <td>163</td>\n",
              "      <td>201</td>\n",
              "      <td>142</td>\n",
              "      <td>160</td>\n",
              "      <td>206</td>\n",
              "      <td>...</td>\n",
              "      <td>167</td>\n",
              "      <td>129</td>\n",
              "      <td>143</td>\n",
              "      <td>159</td>\n",
              "      <td>124</td>\n",
              "      <td>142</td>\n",
              "      <td>136</td>\n",
              "      <td>104</td>\n",
              "      <td>117</td>\n",
              "      <td>2</td>\n",
              "    </tr>\n",
              "    <tr>\n",
              "      <th>3</th>\n",
              "      <td>38</td>\n",
              "      <td>19</td>\n",
              "      <td>30</td>\n",
              "      <td>95</td>\n",
              "      <td>59</td>\n",
              "      <td>72</td>\n",
              "      <td>143</td>\n",
              "      <td>103</td>\n",
              "      <td>119</td>\n",
              "      <td>171</td>\n",
              "      <td>...</td>\n",
              "      <td>44</td>\n",
              "      <td>26</td>\n",
              "      <td>36</td>\n",
              "      <td>25</td>\n",
              "      <td>12</td>\n",
              "      <td>17</td>\n",
              "      <td>25</td>\n",
              "      <td>12</td>\n",
              "      <td>15</td>\n",
              "      <td>2</td>\n",
              "    </tr>\n",
              "    <tr>\n",
              "      <th>4</th>\n",
              "      <td>158</td>\n",
              "      <td>113</td>\n",
              "      <td>139</td>\n",
              "      <td>194</td>\n",
              "      <td>144</td>\n",
              "      <td>174</td>\n",
              "      <td>215</td>\n",
              "      <td>162</td>\n",
              "      <td>191</td>\n",
              "      <td>225</td>\n",
              "      <td>...</td>\n",
              "      <td>209</td>\n",
              "      <td>166</td>\n",
              "      <td>185</td>\n",
              "      <td>172</td>\n",
              "      <td>135</td>\n",
              "      <td>149</td>\n",
              "      <td>109</td>\n",
              "      <td>78</td>\n",
              "      <td>92</td>\n",
              "      <td>2</td>\n",
              "    </tr>\n",
              "    <tr>\n",
              "      <th>5</th>\n",
              "      <td>8</td>\n",
              "      <td>1</td>\n",
              "      <td>3</td>\n",
              "      <td>19</td>\n",
              "      <td>5</td>\n",
              "      <td>10</td>\n",
              "      <td>26</td>\n",
              "      <td>8</td>\n",
              "      <td>13</td>\n",
              "      <td>34</td>\n",
              "      <td>...</td>\n",
              "      <td>12</td>\n",
              "      <td>3</td>\n",
              "      <td>7</td>\n",
              "      <td>5</td>\n",
              "      <td>0</td>\n",
              "      <td>1</td>\n",
              "      <td>4</td>\n",
              "      <td>0</td>\n",
              "      <td>0</td>\n",
              "      <td>2</td>\n",
              "    </tr>\n",
              "    <tr>\n",
              "      <th>6</th>\n",
              "      <td>194</td>\n",
              "      <td>147</td>\n",
              "      <td>137</td>\n",
              "      <td>197</td>\n",
              "      <td>148</td>\n",
              "      <td>139</td>\n",
              "      <td>197</td>\n",
              "      <td>148</td>\n",
              "      <td>132</td>\n",
              "      <td>200</td>\n",
              "      <td>...</td>\n",
              "      <td>211</td>\n",
              "      <td>160</td>\n",
              "      <td>163</td>\n",
              "      <td>211</td>\n",
              "      <td>162</td>\n",
              "      <td>166</td>\n",
              "      <td>208</td>\n",
              "      <td>162</td>\n",
              "      <td>166</td>\n",
              "      <td>2</td>\n",
              "    </tr>\n",
              "    <tr>\n",
              "      <th>7</th>\n",
              "      <td>161</td>\n",
              "      <td>121</td>\n",
              "      <td>105</td>\n",
              "      <td>169</td>\n",
              "      <td>128</td>\n",
              "      <td>119</td>\n",
              "      <td>172</td>\n",
              "      <td>129</td>\n",
              "      <td>116</td>\n",
              "      <td>176</td>\n",
              "      <td>...</td>\n",
              "      <td>141</td>\n",
              "      <td>103</td>\n",
              "      <td>92</td>\n",
              "      <td>87</td>\n",
              "      <td>59</td>\n",
              "      <td>56</td>\n",
              "      <td>32</td>\n",
              "      <td>18</td>\n",
              "      <td>19</td>\n",
              "      <td>2</td>\n",
              "    </tr>\n",
              "    <tr>\n",
              "      <th>8</th>\n",
              "      <td>125</td>\n",
              "      <td>84</td>\n",
              "      <td>85</td>\n",
              "      <td>165</td>\n",
              "      <td>114</td>\n",
              "      <td>118</td>\n",
              "      <td>181</td>\n",
              "      <td>120</td>\n",
              "      <td>125</td>\n",
              "      <td>188</td>\n",
              "      <td>...</td>\n",
              "      <td>119</td>\n",
              "      <td>80</td>\n",
              "      <td>79</td>\n",
              "      <td>62</td>\n",
              "      <td>35</td>\n",
              "      <td>41</td>\n",
              "      <td>19</td>\n",
              "      <td>8</td>\n",
              "      <td>13</td>\n",
              "      <td>2</td>\n",
              "    </tr>\n",
              "    <tr>\n",
              "      <th>9</th>\n",
              "      <td>228</td>\n",
              "      <td>179</td>\n",
              "      <td>194</td>\n",
              "      <td>227</td>\n",
              "      <td>174</td>\n",
              "      <td>191</td>\n",
              "      <td>226</td>\n",
              "      <td>165</td>\n",
              "      <td>182</td>\n",
              "      <td>215</td>\n",
              "      <td>...</td>\n",
              "      <td>217</td>\n",
              "      <td>142</td>\n",
              "      <td>156</td>\n",
              "      <td>219</td>\n",
              "      <td>154</td>\n",
              "      <td>166</td>\n",
              "      <td>216</td>\n",
              "      <td>146</td>\n",
              "      <td>154</td>\n",
              "      <td>2</td>\n",
              "    </tr>\n",
              "    <tr>\n",
              "      <th>10</th>\n",
              "      <td>23</td>\n",
              "      <td>13</td>\n",
              "      <td>16</td>\n",
              "      <td>22</td>\n",
              "      <td>12</td>\n",
              "      <td>14</td>\n",
              "      <td>29</td>\n",
              "      <td>20</td>\n",
              "      <td>24</td>\n",
              "      <td>76</td>\n",
              "      <td>...</td>\n",
              "      <td>183</td>\n",
              "      <td>164</td>\n",
              "      <td>170</td>\n",
              "      <td>174</td>\n",
              "      <td>157</td>\n",
              "      <td>160</td>\n",
              "      <td>139</td>\n",
              "      <td>124</td>\n",
              "      <td>125</td>\n",
              "      <td>2</td>\n",
              "    </tr>\n",
              "    <tr>\n",
              "      <th>11</th>\n",
              "      <td>159</td>\n",
              "      <td>129</td>\n",
              "      <td>127</td>\n",
              "      <td>166</td>\n",
              "      <td>136</td>\n",
              "      <td>135</td>\n",
              "      <td>170</td>\n",
              "      <td>140</td>\n",
              "      <td>142</td>\n",
              "      <td>170</td>\n",
              "      <td>...</td>\n",
              "      <td>172</td>\n",
              "      <td>143</td>\n",
              "      <td>155</td>\n",
              "      <td>150</td>\n",
              "      <td>121</td>\n",
              "      <td>131</td>\n",
              "      <td>114</td>\n",
              "      <td>85</td>\n",
              "      <td>87</td>\n",
              "      <td>2</td>\n",
              "    </tr>\n",
              "    <tr>\n",
              "      <th>12</th>\n",
              "      <td>37</td>\n",
              "      <td>22</td>\n",
              "      <td>22</td>\n",
              "      <td>100</td>\n",
              "      <td>74</td>\n",
              "      <td>61</td>\n",
              "      <td>145</td>\n",
              "      <td>119</td>\n",
              "      <td>111</td>\n",
              "      <td>155</td>\n",
              "      <td>...</td>\n",
              "      <td>19</td>\n",
              "      <td>8</td>\n",
              "      <td>12</td>\n",
              "      <td>20</td>\n",
              "      <td>11</td>\n",
              "      <td>14</td>\n",
              "      <td>15</td>\n",
              "      <td>9</td>\n",
              "      <td>12</td>\n",
              "      <td>2</td>\n",
              "    </tr>\n",
              "    <tr>\n",
              "      <th>13</th>\n",
              "      <td>155</td>\n",
              "      <td>131</td>\n",
              "      <td>142</td>\n",
              "      <td>160</td>\n",
              "      <td>135</td>\n",
              "      <td>146</td>\n",
              "      <td>165</td>\n",
              "      <td>139</td>\n",
              "      <td>157</td>\n",
              "      <td>168</td>\n",
              "      <td>...</td>\n",
              "      <td>168</td>\n",
              "      <td>140</td>\n",
              "      <td>159</td>\n",
              "      <td>164</td>\n",
              "      <td>141</td>\n",
              "      <td>157</td>\n",
              "      <td>158</td>\n",
              "      <td>135</td>\n",
              "      <td>151</td>\n",
              "      <td>2</td>\n",
              "    </tr>\n",
              "    <tr>\n",
              "      <th>14</th>\n",
              "      <td>193</td>\n",
              "      <td>164</td>\n",
              "      <td>192</td>\n",
              "      <td>194</td>\n",
              "      <td>162</td>\n",
              "      <td>190</td>\n",
              "      <td>195</td>\n",
              "      <td>166</td>\n",
              "      <td>193</td>\n",
              "      <td>195</td>\n",
              "      <td>...</td>\n",
              "      <td>196</td>\n",
              "      <td>164</td>\n",
              "      <td>192</td>\n",
              "      <td>194</td>\n",
              "      <td>163</td>\n",
              "      <td>187</td>\n",
              "      <td>194</td>\n",
              "      <td>164</td>\n",
              "      <td>189</td>\n",
              "      <td>2</td>\n",
              "    </tr>\n",
              "    <tr>\n",
              "      <th>15</th>\n",
              "      <td>197</td>\n",
              "      <td>158</td>\n",
              "      <td>179</td>\n",
              "      <td>201</td>\n",
              "      <td>160</td>\n",
              "      <td>182</td>\n",
              "      <td>201</td>\n",
              "      <td>160</td>\n",
              "      <td>182</td>\n",
              "      <td>202</td>\n",
              "      <td>...</td>\n",
              "      <td>212</td>\n",
              "      <td>173</td>\n",
              "      <td>204</td>\n",
              "      <td>212</td>\n",
              "      <td>174</td>\n",
              "      <td>202</td>\n",
              "      <td>214</td>\n",
              "      <td>183</td>\n",
              "      <td>207</td>\n",
              "      <td>2</td>\n",
              "    </tr>\n",
              "    <tr>\n",
              "      <th>16</th>\n",
              "      <td>171</td>\n",
              "      <td>133</td>\n",
              "      <td>142</td>\n",
              "      <td>176</td>\n",
              "      <td>141</td>\n",
              "      <td>153</td>\n",
              "      <td>180</td>\n",
              "      <td>144</td>\n",
              "      <td>153</td>\n",
              "      <td>183</td>\n",
              "      <td>...</td>\n",
              "      <td>166</td>\n",
              "      <td>123</td>\n",
              "      <td>129</td>\n",
              "      <td>147</td>\n",
              "      <td>106</td>\n",
              "      <td>107</td>\n",
              "      <td>109</td>\n",
              "      <td>69</td>\n",
              "      <td>71</td>\n",
              "      <td>2</td>\n",
              "    </tr>\n",
              "    <tr>\n",
              "      <th>17</th>\n",
              "      <td>212</td>\n",
              "      <td>160</td>\n",
              "      <td>173</td>\n",
              "      <td>214</td>\n",
              "      <td>157</td>\n",
              "      <td>173</td>\n",
              "      <td>219</td>\n",
              "      <td>169</td>\n",
              "      <td>185</td>\n",
              "      <td>220</td>\n",
              "      <td>...</td>\n",
              "      <td>208</td>\n",
              "      <td>143</td>\n",
              "      <td>162</td>\n",
              "      <td>204</td>\n",
              "      <td>137</td>\n",
              "      <td>156</td>\n",
              "      <td>201</td>\n",
              "      <td>139</td>\n",
              "      <td>159</td>\n",
              "      <td>2</td>\n",
              "    </tr>\n",
              "    <tr>\n",
              "      <th>18</th>\n",
              "      <td>166</td>\n",
              "      <td>131</td>\n",
              "      <td>138</td>\n",
              "      <td>174</td>\n",
              "      <td>139</td>\n",
              "      <td>145</td>\n",
              "      <td>185</td>\n",
              "      <td>155</td>\n",
              "      <td>163</td>\n",
              "      <td>187</td>\n",
              "      <td>...</td>\n",
              "      <td>117</td>\n",
              "      <td>88</td>\n",
              "      <td>95</td>\n",
              "      <td>45</td>\n",
              "      <td>28</td>\n",
              "      <td>35</td>\n",
              "      <td>9</td>\n",
              "      <td>4</td>\n",
              "      <td>10</td>\n",
              "      <td>2</td>\n",
              "    </tr>\n",
              "    <tr>\n",
              "      <th>19</th>\n",
              "      <td>217</td>\n",
              "      <td>179</td>\n",
              "      <td>200</td>\n",
              "      <td>219</td>\n",
              "      <td>183</td>\n",
              "      <td>203</td>\n",
              "      <td>219</td>\n",
              "      <td>183</td>\n",
              "      <td>205</td>\n",
              "      <td>220</td>\n",
              "      <td>...</td>\n",
              "      <td>220</td>\n",
              "      <td>182</td>\n",
              "      <td>197</td>\n",
              "      <td>222</td>\n",
              "      <td>186</td>\n",
              "      <td>206</td>\n",
              "      <td>220</td>\n",
              "      <td>185</td>\n",
              "      <td>203</td>\n",
              "      <td>2</td>\n",
              "    </tr>\n",
              "  </tbody>\n",
              "</table>\n",
              "<p>20 rows × 2353 columns</p>\n",
              "</div>\n",
              "      <button class=\"colab-df-convert\" onclick=\"convertToInteractive('df-1462fc89-23fc-47fb-96d7-0b13a524753e')\"\n",
              "              title=\"Convert this dataframe to an interactive table.\"\n",
              "              style=\"display:none;\">\n",
              "\n",
              "  <svg xmlns=\"http://www.w3.org/2000/svg\" height=\"24px\"viewBox=\"0 0 24 24\"\n",
              "       width=\"24px\">\n",
              "    <path d=\"M0 0h24v24H0V0z\" fill=\"none\"/>\n",
              "    <path d=\"M18.56 5.44l.94 2.06.94-2.06 2.06-.94-2.06-.94-.94-2.06-.94 2.06-2.06.94zm-11 1L8.5 8.5l.94-2.06 2.06-.94-2.06-.94L8.5 2.5l-.94 2.06-2.06.94zm10 10l.94 2.06.94-2.06 2.06-.94-2.06-.94-.94-2.06-.94 2.06-2.06.94z\"/><path d=\"M17.41 7.96l-1.37-1.37c-.4-.4-.92-.59-1.43-.59-.52 0-1.04.2-1.43.59L10.3 9.45l-7.72 7.72c-.78.78-.78 2.05 0 2.83L4 21.41c.39.39.9.59 1.41.59.51 0 1.02-.2 1.41-.59l7.78-7.78 2.81-2.81c.8-.78.8-2.07 0-2.86zM5.41 20L4 18.59l7.72-7.72 1.47 1.35L5.41 20z\"/>\n",
              "  </svg>\n",
              "      </button>\n",
              "\n",
              "\n",
              "\n",
              "    <div id=\"df-36135266-6235-4c61-9d85-3b856e4e7d23\">\n",
              "      <button class=\"colab-df-quickchart\" onclick=\"quickchart('df-36135266-6235-4c61-9d85-3b856e4e7d23')\"\n",
              "              title=\"Suggest charts.\"\n",
              "              style=\"display:none;\">\n",
              "\n",
              "<svg xmlns=\"http://www.w3.org/2000/svg\" height=\"24px\"viewBox=\"0 0 24 24\"\n",
              "     width=\"24px\">\n",
              "    <g>\n",
              "        <path d=\"M19 3H5c-1.1 0-2 .9-2 2v14c0 1.1.9 2 2 2h14c1.1 0 2-.9 2-2V5c0-1.1-.9-2-2-2zM9 17H7v-7h2v7zm4 0h-2V7h2v10zm4 0h-2v-4h2v4z\"/>\n",
              "    </g>\n",
              "</svg>\n",
              "      </button>\n",
              "    </div>\n",
              "\n",
              "<style>\n",
              "  .colab-df-quickchart {\n",
              "    background-color: #E8F0FE;\n",
              "    border: none;\n",
              "    border-radius: 50%;\n",
              "    cursor: pointer;\n",
              "    display: none;\n",
              "    fill: #1967D2;\n",
              "    height: 32px;\n",
              "    padding: 0 0 0 0;\n",
              "    width: 32px;\n",
              "  }\n",
              "\n",
              "  .colab-df-quickchart:hover {\n",
              "    background-color: #E2EBFA;\n",
              "    box-shadow: 0px 1px 2px rgba(60, 64, 67, 0.3), 0px 1px 3px 1px rgba(60, 64, 67, 0.15);\n",
              "    fill: #174EA6;\n",
              "  }\n",
              "\n",
              "  [theme=dark] .colab-df-quickchart {\n",
              "    background-color: #3B4455;\n",
              "    fill: #D2E3FC;\n",
              "  }\n",
              "\n",
              "  [theme=dark] .colab-df-quickchart:hover {\n",
              "    background-color: #434B5C;\n",
              "    box-shadow: 0px 1px 3px 1px rgba(0, 0, 0, 0.15);\n",
              "    filter: drop-shadow(0px 1px 2px rgba(0, 0, 0, 0.3));\n",
              "    fill: #FFFFFF;\n",
              "  }\n",
              "</style>\n",
              "\n",
              "    <script>\n",
              "      async function quickchart(key) {\n",
              "        const containerElement = document.querySelector('#' + key);\n",
              "        const charts = await google.colab.kernel.invokeFunction(\n",
              "            'suggestCharts', [key], {});\n",
              "      }\n",
              "    </script>\n",
              "\n",
              "      <script>\n",
              "\n",
              "function displayQuickchartButton(domScope) {\n",
              "  let quickchartButtonEl =\n",
              "    domScope.querySelector('#df-36135266-6235-4c61-9d85-3b856e4e7d23 button.colab-df-quickchart');\n",
              "  quickchartButtonEl.style.display =\n",
              "    google.colab.kernel.accessAllowed ? 'block' : 'none';\n",
              "}\n",
              "\n",
              "        displayQuickchartButton(document);\n",
              "      </script>\n",
              "      <style>\n",
              "    .colab-df-container {\n",
              "      display:flex;\n",
              "      flex-wrap:wrap;\n",
              "      gap: 12px;\n",
              "    }\n",
              "\n",
              "    .colab-df-convert {\n",
              "      background-color: #E8F0FE;\n",
              "      border: none;\n",
              "      border-radius: 50%;\n",
              "      cursor: pointer;\n",
              "      display: none;\n",
              "      fill: #1967D2;\n",
              "      height: 32px;\n",
              "      padding: 0 0 0 0;\n",
              "      width: 32px;\n",
              "    }\n",
              "\n",
              "    .colab-df-convert:hover {\n",
              "      background-color: #E2EBFA;\n",
              "      box-shadow: 0px 1px 2px rgba(60, 64, 67, 0.3), 0px 1px 3px 1px rgba(60, 64, 67, 0.15);\n",
              "      fill: #174EA6;\n",
              "    }\n",
              "\n",
              "    [theme=dark] .colab-df-convert {\n",
              "      background-color: #3B4455;\n",
              "      fill: #D2E3FC;\n",
              "    }\n",
              "\n",
              "    [theme=dark] .colab-df-convert:hover {\n",
              "      background-color: #434B5C;\n",
              "      box-shadow: 0px 1px 3px 1px rgba(0, 0, 0, 0.15);\n",
              "      filter: drop-shadow(0px 1px 2px rgba(0, 0, 0, 0.3));\n",
              "      fill: #FFFFFF;\n",
              "    }\n",
              "  </style>\n",
              "\n",
              "      <script>\n",
              "        const buttonEl =\n",
              "          document.querySelector('#df-1462fc89-23fc-47fb-96d7-0b13a524753e button.colab-df-convert');\n",
              "        buttonEl.style.display =\n",
              "          google.colab.kernel.accessAllowed ? 'block' : 'none';\n",
              "\n",
              "        async function convertToInteractive(key) {\n",
              "          const element = document.querySelector('#df-1462fc89-23fc-47fb-96d7-0b13a524753e');\n",
              "          const dataTable =\n",
              "            await google.colab.kernel.invokeFunction('convertToInteractive',\n",
              "                                                     [key], {});\n",
              "          if (!dataTable) return;\n",
              "\n",
              "          const docLinkHtml = 'Like what you see? Visit the ' +\n",
              "            '<a target=\"_blank\" href=https://colab.research.google.com/notebooks/data_table.ipynb>data table notebook</a>'\n",
              "            + ' to learn more about interactive tables.';\n",
              "          element.innerHTML = '';\n",
              "          dataTable['output_type'] = 'display_data';\n",
              "          await google.colab.output.renderOutput(dataTable, element);\n",
              "          const docLink = document.createElement('div');\n",
              "          docLink.innerHTML = docLinkHtml;\n",
              "          element.appendChild(docLink);\n",
              "        }\n",
              "      </script>\n",
              "    </div>\n",
              "  </div>\n"
            ]
          },
          "metadata": {},
          "execution_count": 3
        }
      ]
    },
    {
      "cell_type": "code",
      "source": [
        "data_frame.shape"
      ],
      "metadata": {
        "colab": {
          "base_uri": "https://localhost:8080/"
        },
        "id": "0DG2G8u0MAmu",
        "outputId": "16880b59-7299-40a4-ce67-158214cf318c"
      },
      "execution_count": 4,
      "outputs": [
        {
          "output_type": "execute_result",
          "data": {
            "text/plain": [
              "(10015, 2353)"
            ]
          },
          "metadata": {},
          "execution_count": 4
        }
      ]
    },
    {
      "cell_type": "code",
      "source": [
        "data_frame.info()"
      ],
      "metadata": {
        "colab": {
          "base_uri": "https://localhost:8080/"
        },
        "id": "-vjf4tcwMBkH",
        "outputId": "5fb78c1c-fc90-425a-bc4e-cdfcce4a0105"
      },
      "execution_count": 5,
      "outputs": [
        {
          "output_type": "stream",
          "name": "stdout",
          "text": [
            "<class 'pandas.core.frame.DataFrame'>\n",
            "RangeIndex: 10015 entries, 0 to 10014\n",
            "Columns: 2353 entries, pixel0000 to label\n",
            "dtypes: int64(2353)\n",
            "memory usage: 179.8 MB\n"
          ]
        }
      ]
    },
    {
      "cell_type": "code",
      "source": [
        "data_frame.describe()"
      ],
      "metadata": {
        "colab": {
          "base_uri": "https://localhost:8080/",
          "height": 393
        },
        "id": "1pW4nEGdMB1B",
        "outputId": "4d2ca31a-5653-4ed7-f063-4ce98fcb090b"
      },
      "execution_count": 6,
      "outputs": [
        {
          "output_type": "execute_result",
          "data": {
            "text/plain": [
              "          pixel0000     pixel0001    pixel0002     pixel0003     pixel0004  \\\n",
              "count  10015.000000  10015.000000  10015.00000  10015.000000  10015.000000   \n",
              "mean     181.056415    131.728407    141.24024    187.274488    137.089466   \n",
              "std       59.746698     45.043473     48.67267     54.021274     41.138096   \n",
              "min        0.000000      0.000000      0.00000      0.000000      0.000000   \n",
              "25%      158.000000    117.000000    123.00000    165.000000    122.000000   \n",
              "50%      198.000000    141.000000    151.00000    201.000000    144.000000   \n",
              "75%      224.000000    159.000000    172.00000    226.000000    162.000000   \n",
              "max      255.000000    246.000000    255.00000    254.000000    246.000000   \n",
              "\n",
              "          pixel0005     pixel0006     pixel0007     pixel0008     pixel0009  \\\n",
              "count  10015.000000  10015.000000  10015.000000  10015.000000  10015.000000   \n",
              "mean     147.206191    192.358862    141.796405    152.211782    196.177234   \n",
              "std       44.661091     48.267713     37.382709     40.725174     43.892249   \n",
              "min        0.000000      0.000000      0.000000      0.000000      0.000000   \n",
              "25%      130.000000    170.000000    127.000000    135.000000    174.000000   \n",
              "50%      155.000000    204.000000    146.000000    157.000000    205.000000   \n",
              "75%      174.000000    227.000000    163.000000    177.000000    228.000000   \n",
              "max      254.000000    255.000000    251.000000    255.000000    255.000000   \n",
              "\n",
              "       ...    pixel2343     pixel2344     pixel2345     pixel2346  \\\n",
              "count  ...  10015.00000  10015.000000  10015.000000  10015.000000   \n",
              "mean   ...    184.68657    138.416875    144.061508    178.656216   \n",
              "std    ...     47.02376     38.393007     41.322365     53.534096   \n",
              "min    ...      0.00000      0.000000      0.000000      0.000000   \n",
              "25%    ...    166.00000    123.000000    126.000000    160.000000   \n",
              "50%    ...    197.00000    144.000000    149.000000    195.000000   \n",
              "75%    ...    216.00000    161.000000    169.000000    214.000000   \n",
              "max    ...    255.00000    254.000000    254.000000    254.000000   \n",
              "\n",
              "          pixel2347     pixel2348     pixel2349     pixel2350     pixel2351  \\\n",
              "count  10015.000000  10015.000000  10015.000000  10015.000000  10015.000000   \n",
              "mean     133.217474    138.752172    172.307239    127.871193    133.144483   \n",
              "std       42.910723     45.642257     58.533979     46.453818     49.060028   \n",
              "min        0.000000      0.000000      0.000000      0.000000      0.000000   \n",
              "25%      118.000000    120.000000    153.000000    113.000000    115.000000   \n",
              "50%      141.000000    146.000000    191.000000    138.000000    142.000000   \n",
              "75%      159.000000    166.000000    212.000000    156.000000    163.000000   \n",
              "max      252.000000    255.000000    254.000000    249.000000    254.000000   \n",
              "\n",
              "              label  \n",
              "count  10015.000000  \n",
              "mean       3.720919  \n",
              "std        1.347499  \n",
              "min        0.000000  \n",
              "25%        4.000000  \n",
              "50%        4.000000  \n",
              "75%        4.000000  \n",
              "max        6.000000  \n",
              "\n",
              "[8 rows x 2353 columns]"
            ],
            "text/html": [
              "\n",
              "\n",
              "  <div id=\"df-9cee30e1-5811-4dc6-9d23-eb35f4bfc178\">\n",
              "    <div class=\"colab-df-container\">\n",
              "      <div>\n",
              "<style scoped>\n",
              "    .dataframe tbody tr th:only-of-type {\n",
              "        vertical-align: middle;\n",
              "    }\n",
              "\n",
              "    .dataframe tbody tr th {\n",
              "        vertical-align: top;\n",
              "    }\n",
              "\n",
              "    .dataframe thead th {\n",
              "        text-align: right;\n",
              "    }\n",
              "</style>\n",
              "<table border=\"1\" class=\"dataframe\">\n",
              "  <thead>\n",
              "    <tr style=\"text-align: right;\">\n",
              "      <th></th>\n",
              "      <th>pixel0000</th>\n",
              "      <th>pixel0001</th>\n",
              "      <th>pixel0002</th>\n",
              "      <th>pixel0003</th>\n",
              "      <th>pixel0004</th>\n",
              "      <th>pixel0005</th>\n",
              "      <th>pixel0006</th>\n",
              "      <th>pixel0007</th>\n",
              "      <th>pixel0008</th>\n",
              "      <th>pixel0009</th>\n",
              "      <th>...</th>\n",
              "      <th>pixel2343</th>\n",
              "      <th>pixel2344</th>\n",
              "      <th>pixel2345</th>\n",
              "      <th>pixel2346</th>\n",
              "      <th>pixel2347</th>\n",
              "      <th>pixel2348</th>\n",
              "      <th>pixel2349</th>\n",
              "      <th>pixel2350</th>\n",
              "      <th>pixel2351</th>\n",
              "      <th>label</th>\n",
              "    </tr>\n",
              "  </thead>\n",
              "  <tbody>\n",
              "    <tr>\n",
              "      <th>count</th>\n",
              "      <td>10015.000000</td>\n",
              "      <td>10015.000000</td>\n",
              "      <td>10015.00000</td>\n",
              "      <td>10015.000000</td>\n",
              "      <td>10015.000000</td>\n",
              "      <td>10015.000000</td>\n",
              "      <td>10015.000000</td>\n",
              "      <td>10015.000000</td>\n",
              "      <td>10015.000000</td>\n",
              "      <td>10015.000000</td>\n",
              "      <td>...</td>\n",
              "      <td>10015.00000</td>\n",
              "      <td>10015.000000</td>\n",
              "      <td>10015.000000</td>\n",
              "      <td>10015.000000</td>\n",
              "      <td>10015.000000</td>\n",
              "      <td>10015.000000</td>\n",
              "      <td>10015.000000</td>\n",
              "      <td>10015.000000</td>\n",
              "      <td>10015.000000</td>\n",
              "      <td>10015.000000</td>\n",
              "    </tr>\n",
              "    <tr>\n",
              "      <th>mean</th>\n",
              "      <td>181.056415</td>\n",
              "      <td>131.728407</td>\n",
              "      <td>141.24024</td>\n",
              "      <td>187.274488</td>\n",
              "      <td>137.089466</td>\n",
              "      <td>147.206191</td>\n",
              "      <td>192.358862</td>\n",
              "      <td>141.796405</td>\n",
              "      <td>152.211782</td>\n",
              "      <td>196.177234</td>\n",
              "      <td>...</td>\n",
              "      <td>184.68657</td>\n",
              "      <td>138.416875</td>\n",
              "      <td>144.061508</td>\n",
              "      <td>178.656216</td>\n",
              "      <td>133.217474</td>\n",
              "      <td>138.752172</td>\n",
              "      <td>172.307239</td>\n",
              "      <td>127.871193</td>\n",
              "      <td>133.144483</td>\n",
              "      <td>3.720919</td>\n",
              "    </tr>\n",
              "    <tr>\n",
              "      <th>std</th>\n",
              "      <td>59.746698</td>\n",
              "      <td>45.043473</td>\n",
              "      <td>48.67267</td>\n",
              "      <td>54.021274</td>\n",
              "      <td>41.138096</td>\n",
              "      <td>44.661091</td>\n",
              "      <td>48.267713</td>\n",
              "      <td>37.382709</td>\n",
              "      <td>40.725174</td>\n",
              "      <td>43.892249</td>\n",
              "      <td>...</td>\n",
              "      <td>47.02376</td>\n",
              "      <td>38.393007</td>\n",
              "      <td>41.322365</td>\n",
              "      <td>53.534096</td>\n",
              "      <td>42.910723</td>\n",
              "      <td>45.642257</td>\n",
              "      <td>58.533979</td>\n",
              "      <td>46.453818</td>\n",
              "      <td>49.060028</td>\n",
              "      <td>1.347499</td>\n",
              "    </tr>\n",
              "    <tr>\n",
              "      <th>min</th>\n",
              "      <td>0.000000</td>\n",
              "      <td>0.000000</td>\n",
              "      <td>0.00000</td>\n",
              "      <td>0.000000</td>\n",
              "      <td>0.000000</td>\n",
              "      <td>0.000000</td>\n",
              "      <td>0.000000</td>\n",
              "      <td>0.000000</td>\n",
              "      <td>0.000000</td>\n",
              "      <td>0.000000</td>\n",
              "      <td>...</td>\n",
              "      <td>0.00000</td>\n",
              "      <td>0.000000</td>\n",
              "      <td>0.000000</td>\n",
              "      <td>0.000000</td>\n",
              "      <td>0.000000</td>\n",
              "      <td>0.000000</td>\n",
              "      <td>0.000000</td>\n",
              "      <td>0.000000</td>\n",
              "      <td>0.000000</td>\n",
              "      <td>0.000000</td>\n",
              "    </tr>\n",
              "    <tr>\n",
              "      <th>25%</th>\n",
              "      <td>158.000000</td>\n",
              "      <td>117.000000</td>\n",
              "      <td>123.00000</td>\n",
              "      <td>165.000000</td>\n",
              "      <td>122.000000</td>\n",
              "      <td>130.000000</td>\n",
              "      <td>170.000000</td>\n",
              "      <td>127.000000</td>\n",
              "      <td>135.000000</td>\n",
              "      <td>174.000000</td>\n",
              "      <td>...</td>\n",
              "      <td>166.00000</td>\n",
              "      <td>123.000000</td>\n",
              "      <td>126.000000</td>\n",
              "      <td>160.000000</td>\n",
              "      <td>118.000000</td>\n",
              "      <td>120.000000</td>\n",
              "      <td>153.000000</td>\n",
              "      <td>113.000000</td>\n",
              "      <td>115.000000</td>\n",
              "      <td>4.000000</td>\n",
              "    </tr>\n",
              "    <tr>\n",
              "      <th>50%</th>\n",
              "      <td>198.000000</td>\n",
              "      <td>141.000000</td>\n",
              "      <td>151.00000</td>\n",
              "      <td>201.000000</td>\n",
              "      <td>144.000000</td>\n",
              "      <td>155.000000</td>\n",
              "      <td>204.000000</td>\n",
              "      <td>146.000000</td>\n",
              "      <td>157.000000</td>\n",
              "      <td>205.000000</td>\n",
              "      <td>...</td>\n",
              "      <td>197.00000</td>\n",
              "      <td>144.000000</td>\n",
              "      <td>149.000000</td>\n",
              "      <td>195.000000</td>\n",
              "      <td>141.000000</td>\n",
              "      <td>146.000000</td>\n",
              "      <td>191.000000</td>\n",
              "      <td>138.000000</td>\n",
              "      <td>142.000000</td>\n",
              "      <td>4.000000</td>\n",
              "    </tr>\n",
              "    <tr>\n",
              "      <th>75%</th>\n",
              "      <td>224.000000</td>\n",
              "      <td>159.000000</td>\n",
              "      <td>172.00000</td>\n",
              "      <td>226.000000</td>\n",
              "      <td>162.000000</td>\n",
              "      <td>174.000000</td>\n",
              "      <td>227.000000</td>\n",
              "      <td>163.000000</td>\n",
              "      <td>177.000000</td>\n",
              "      <td>228.000000</td>\n",
              "      <td>...</td>\n",
              "      <td>216.00000</td>\n",
              "      <td>161.000000</td>\n",
              "      <td>169.000000</td>\n",
              "      <td>214.000000</td>\n",
              "      <td>159.000000</td>\n",
              "      <td>166.000000</td>\n",
              "      <td>212.000000</td>\n",
              "      <td>156.000000</td>\n",
              "      <td>163.000000</td>\n",
              "      <td>4.000000</td>\n",
              "    </tr>\n",
              "    <tr>\n",
              "      <th>max</th>\n",
              "      <td>255.000000</td>\n",
              "      <td>246.000000</td>\n",
              "      <td>255.00000</td>\n",
              "      <td>254.000000</td>\n",
              "      <td>246.000000</td>\n",
              "      <td>254.000000</td>\n",
              "      <td>255.000000</td>\n",
              "      <td>251.000000</td>\n",
              "      <td>255.000000</td>\n",
              "      <td>255.000000</td>\n",
              "      <td>...</td>\n",
              "      <td>255.00000</td>\n",
              "      <td>254.000000</td>\n",
              "      <td>254.000000</td>\n",
              "      <td>254.000000</td>\n",
              "      <td>252.000000</td>\n",
              "      <td>255.000000</td>\n",
              "      <td>254.000000</td>\n",
              "      <td>249.000000</td>\n",
              "      <td>254.000000</td>\n",
              "      <td>6.000000</td>\n",
              "    </tr>\n",
              "  </tbody>\n",
              "</table>\n",
              "<p>8 rows × 2353 columns</p>\n",
              "</div>\n",
              "      <button class=\"colab-df-convert\" onclick=\"convertToInteractive('df-9cee30e1-5811-4dc6-9d23-eb35f4bfc178')\"\n",
              "              title=\"Convert this dataframe to an interactive table.\"\n",
              "              style=\"display:none;\">\n",
              "\n",
              "  <svg xmlns=\"http://www.w3.org/2000/svg\" height=\"24px\"viewBox=\"0 0 24 24\"\n",
              "       width=\"24px\">\n",
              "    <path d=\"M0 0h24v24H0V0z\" fill=\"none\"/>\n",
              "    <path d=\"M18.56 5.44l.94 2.06.94-2.06 2.06-.94-2.06-.94-.94-2.06-.94 2.06-2.06.94zm-11 1L8.5 8.5l.94-2.06 2.06-.94-2.06-.94L8.5 2.5l-.94 2.06-2.06.94zm10 10l.94 2.06.94-2.06 2.06-.94-2.06-.94-.94-2.06-.94 2.06-2.06.94z\"/><path d=\"M17.41 7.96l-1.37-1.37c-.4-.4-.92-.59-1.43-.59-.52 0-1.04.2-1.43.59L10.3 9.45l-7.72 7.72c-.78.78-.78 2.05 0 2.83L4 21.41c.39.39.9.59 1.41.59.51 0 1.02-.2 1.41-.59l7.78-7.78 2.81-2.81c.8-.78.8-2.07 0-2.86zM5.41 20L4 18.59l7.72-7.72 1.47 1.35L5.41 20z\"/>\n",
              "  </svg>\n",
              "      </button>\n",
              "\n",
              "\n",
              "\n",
              "    <div id=\"df-c371617d-baba-4d83-8a10-3c655f6f574c\">\n",
              "      <button class=\"colab-df-quickchart\" onclick=\"quickchart('df-c371617d-baba-4d83-8a10-3c655f6f574c')\"\n",
              "              title=\"Suggest charts.\"\n",
              "              style=\"display:none;\">\n",
              "\n",
              "<svg xmlns=\"http://www.w3.org/2000/svg\" height=\"24px\"viewBox=\"0 0 24 24\"\n",
              "     width=\"24px\">\n",
              "    <g>\n",
              "        <path d=\"M19 3H5c-1.1 0-2 .9-2 2v14c0 1.1.9 2 2 2h14c1.1 0 2-.9 2-2V5c0-1.1-.9-2-2-2zM9 17H7v-7h2v7zm4 0h-2V7h2v10zm4 0h-2v-4h2v4z\"/>\n",
              "    </g>\n",
              "</svg>\n",
              "      </button>\n",
              "    </div>\n",
              "\n",
              "<style>\n",
              "  .colab-df-quickchart {\n",
              "    background-color: #E8F0FE;\n",
              "    border: none;\n",
              "    border-radius: 50%;\n",
              "    cursor: pointer;\n",
              "    display: none;\n",
              "    fill: #1967D2;\n",
              "    height: 32px;\n",
              "    padding: 0 0 0 0;\n",
              "    width: 32px;\n",
              "  }\n",
              "\n",
              "  .colab-df-quickchart:hover {\n",
              "    background-color: #E2EBFA;\n",
              "    box-shadow: 0px 1px 2px rgba(60, 64, 67, 0.3), 0px 1px 3px 1px rgba(60, 64, 67, 0.15);\n",
              "    fill: #174EA6;\n",
              "  }\n",
              "\n",
              "  [theme=dark] .colab-df-quickchart {\n",
              "    background-color: #3B4455;\n",
              "    fill: #D2E3FC;\n",
              "  }\n",
              "\n",
              "  [theme=dark] .colab-df-quickchart:hover {\n",
              "    background-color: #434B5C;\n",
              "    box-shadow: 0px 1px 3px 1px rgba(0, 0, 0, 0.15);\n",
              "    filter: drop-shadow(0px 1px 2px rgba(0, 0, 0, 0.3));\n",
              "    fill: #FFFFFF;\n",
              "  }\n",
              "</style>\n",
              "\n",
              "    <script>\n",
              "      async function quickchart(key) {\n",
              "        const containerElement = document.querySelector('#' + key);\n",
              "        const charts = await google.colab.kernel.invokeFunction(\n",
              "            'suggestCharts', [key], {});\n",
              "      }\n",
              "    </script>\n",
              "\n",
              "      <script>\n",
              "\n",
              "function displayQuickchartButton(domScope) {\n",
              "  let quickchartButtonEl =\n",
              "    domScope.querySelector('#df-c371617d-baba-4d83-8a10-3c655f6f574c button.colab-df-quickchart');\n",
              "  quickchartButtonEl.style.display =\n",
              "    google.colab.kernel.accessAllowed ? 'block' : 'none';\n",
              "}\n",
              "\n",
              "        displayQuickchartButton(document);\n",
              "      </script>\n",
              "      <style>\n",
              "    .colab-df-container {\n",
              "      display:flex;\n",
              "      flex-wrap:wrap;\n",
              "      gap: 12px;\n",
              "    }\n",
              "\n",
              "    .colab-df-convert {\n",
              "      background-color: #E8F0FE;\n",
              "      border: none;\n",
              "      border-radius: 50%;\n",
              "      cursor: pointer;\n",
              "      display: none;\n",
              "      fill: #1967D2;\n",
              "      height: 32px;\n",
              "      padding: 0 0 0 0;\n",
              "      width: 32px;\n",
              "    }\n",
              "\n",
              "    .colab-df-convert:hover {\n",
              "      background-color: #E2EBFA;\n",
              "      box-shadow: 0px 1px 2px rgba(60, 64, 67, 0.3), 0px 1px 3px 1px rgba(60, 64, 67, 0.15);\n",
              "      fill: #174EA6;\n",
              "    }\n",
              "\n",
              "    [theme=dark] .colab-df-convert {\n",
              "      background-color: #3B4455;\n",
              "      fill: #D2E3FC;\n",
              "    }\n",
              "\n",
              "    [theme=dark] .colab-df-convert:hover {\n",
              "      background-color: #434B5C;\n",
              "      box-shadow: 0px 1px 3px 1px rgba(0, 0, 0, 0.15);\n",
              "      filter: drop-shadow(0px 1px 2px rgba(0, 0, 0, 0.3));\n",
              "      fill: #FFFFFF;\n",
              "    }\n",
              "  </style>\n",
              "\n",
              "      <script>\n",
              "        const buttonEl =\n",
              "          document.querySelector('#df-9cee30e1-5811-4dc6-9d23-eb35f4bfc178 button.colab-df-convert');\n",
              "        buttonEl.style.display =\n",
              "          google.colab.kernel.accessAllowed ? 'block' : 'none';\n",
              "\n",
              "        async function convertToInteractive(key) {\n",
              "          const element = document.querySelector('#df-9cee30e1-5811-4dc6-9d23-eb35f4bfc178');\n",
              "          const dataTable =\n",
              "            await google.colab.kernel.invokeFunction('convertToInteractive',\n",
              "                                                     [key], {});\n",
              "          if (!dataTable) return;\n",
              "\n",
              "          const docLinkHtml = 'Like what you see? Visit the ' +\n",
              "            '<a target=\"_blank\" href=https://colab.research.google.com/notebooks/data_table.ipynb>data table notebook</a>'\n",
              "            + ' to learn more about interactive tables.';\n",
              "          element.innerHTML = '';\n",
              "          dataTable['output_type'] = 'display_data';\n",
              "          await google.colab.output.renderOutput(dataTable, element);\n",
              "          const docLink = document.createElement('div');\n",
              "          docLink.innerHTML = docLinkHtml;\n",
              "          element.appendChild(docLink);\n",
              "        }\n",
              "      </script>\n",
              "    </div>\n",
              "  </div>\n"
            ]
          },
          "metadata": {},
          "execution_count": 6
        }
      ]
    },
    {
      "cell_type": "code",
      "source": [
        "#load the dataset\n",
        "df = pd.read_csv('HAM10000_metadata.csv')"
      ],
      "metadata": {
        "id": "gpgYXJoOMCDi"
      },
      "execution_count": 7,
      "outputs": []
    },
    {
      "cell_type": "code",
      "source": [
        "df.head()"
      ],
      "metadata": {
        "colab": {
          "base_uri": "https://localhost:8080/",
          "height": 206
        },
        "id": "1_44R-maMCRT",
        "outputId": "8cb8c563-428a-4b8c-f256-81e45db48d66"
      },
      "execution_count": 8,
      "outputs": [
        {
          "output_type": "execute_result",
          "data": {
            "text/plain": [
              "     lesion_id      image_id   dx dx_type   age   sex localization\n",
              "0  HAM_0000118  ISIC_0027419  bkl   histo  80.0  male        scalp\n",
              "1  HAM_0000118  ISIC_0025030  bkl   histo  80.0  male        scalp\n",
              "2  HAM_0002730  ISIC_0026769  bkl   histo  80.0  male        scalp\n",
              "3  HAM_0002730  ISIC_0025661  bkl   histo  80.0  male        scalp\n",
              "4  HAM_0001466  ISIC_0031633  bkl   histo  75.0  male          ear"
            ],
            "text/html": [
              "\n",
              "\n",
              "  <div id=\"df-9fe5371a-2686-4ae5-9db4-a042999e88ce\">\n",
              "    <div class=\"colab-df-container\">\n",
              "      <div>\n",
              "<style scoped>\n",
              "    .dataframe tbody tr th:only-of-type {\n",
              "        vertical-align: middle;\n",
              "    }\n",
              "\n",
              "    .dataframe tbody tr th {\n",
              "        vertical-align: top;\n",
              "    }\n",
              "\n",
              "    .dataframe thead th {\n",
              "        text-align: right;\n",
              "    }\n",
              "</style>\n",
              "<table border=\"1\" class=\"dataframe\">\n",
              "  <thead>\n",
              "    <tr style=\"text-align: right;\">\n",
              "      <th></th>\n",
              "      <th>lesion_id</th>\n",
              "      <th>image_id</th>\n",
              "      <th>dx</th>\n",
              "      <th>dx_type</th>\n",
              "      <th>age</th>\n",
              "      <th>sex</th>\n",
              "      <th>localization</th>\n",
              "    </tr>\n",
              "  </thead>\n",
              "  <tbody>\n",
              "    <tr>\n",
              "      <th>0</th>\n",
              "      <td>HAM_0000118</td>\n",
              "      <td>ISIC_0027419</td>\n",
              "      <td>bkl</td>\n",
              "      <td>histo</td>\n",
              "      <td>80.0</td>\n",
              "      <td>male</td>\n",
              "      <td>scalp</td>\n",
              "    </tr>\n",
              "    <tr>\n",
              "      <th>1</th>\n",
              "      <td>HAM_0000118</td>\n",
              "      <td>ISIC_0025030</td>\n",
              "      <td>bkl</td>\n",
              "      <td>histo</td>\n",
              "      <td>80.0</td>\n",
              "      <td>male</td>\n",
              "      <td>scalp</td>\n",
              "    </tr>\n",
              "    <tr>\n",
              "      <th>2</th>\n",
              "      <td>HAM_0002730</td>\n",
              "      <td>ISIC_0026769</td>\n",
              "      <td>bkl</td>\n",
              "      <td>histo</td>\n",
              "      <td>80.0</td>\n",
              "      <td>male</td>\n",
              "      <td>scalp</td>\n",
              "    </tr>\n",
              "    <tr>\n",
              "      <th>3</th>\n",
              "      <td>HAM_0002730</td>\n",
              "      <td>ISIC_0025661</td>\n",
              "      <td>bkl</td>\n",
              "      <td>histo</td>\n",
              "      <td>80.0</td>\n",
              "      <td>male</td>\n",
              "      <td>scalp</td>\n",
              "    </tr>\n",
              "    <tr>\n",
              "      <th>4</th>\n",
              "      <td>HAM_0001466</td>\n",
              "      <td>ISIC_0031633</td>\n",
              "      <td>bkl</td>\n",
              "      <td>histo</td>\n",
              "      <td>75.0</td>\n",
              "      <td>male</td>\n",
              "      <td>ear</td>\n",
              "    </tr>\n",
              "  </tbody>\n",
              "</table>\n",
              "</div>\n",
              "      <button class=\"colab-df-convert\" onclick=\"convertToInteractive('df-9fe5371a-2686-4ae5-9db4-a042999e88ce')\"\n",
              "              title=\"Convert this dataframe to an interactive table.\"\n",
              "              style=\"display:none;\">\n",
              "\n",
              "  <svg xmlns=\"http://www.w3.org/2000/svg\" height=\"24px\"viewBox=\"0 0 24 24\"\n",
              "       width=\"24px\">\n",
              "    <path d=\"M0 0h24v24H0V0z\" fill=\"none\"/>\n",
              "    <path d=\"M18.56 5.44l.94 2.06.94-2.06 2.06-.94-2.06-.94-.94-2.06-.94 2.06-2.06.94zm-11 1L8.5 8.5l.94-2.06 2.06-.94-2.06-.94L8.5 2.5l-.94 2.06-2.06.94zm10 10l.94 2.06.94-2.06 2.06-.94-2.06-.94-.94-2.06-.94 2.06-2.06.94z\"/><path d=\"M17.41 7.96l-1.37-1.37c-.4-.4-.92-.59-1.43-.59-.52 0-1.04.2-1.43.59L10.3 9.45l-7.72 7.72c-.78.78-.78 2.05 0 2.83L4 21.41c.39.39.9.59 1.41.59.51 0 1.02-.2 1.41-.59l7.78-7.78 2.81-2.81c.8-.78.8-2.07 0-2.86zM5.41 20L4 18.59l7.72-7.72 1.47 1.35L5.41 20z\"/>\n",
              "  </svg>\n",
              "      </button>\n",
              "\n",
              "\n",
              "\n",
              "    <div id=\"df-1273ca1c-bf48-4729-b8d3-2c88b440e776\">\n",
              "      <button class=\"colab-df-quickchart\" onclick=\"quickchart('df-1273ca1c-bf48-4729-b8d3-2c88b440e776')\"\n",
              "              title=\"Suggest charts.\"\n",
              "              style=\"display:none;\">\n",
              "\n",
              "<svg xmlns=\"http://www.w3.org/2000/svg\" height=\"24px\"viewBox=\"0 0 24 24\"\n",
              "     width=\"24px\">\n",
              "    <g>\n",
              "        <path d=\"M19 3H5c-1.1 0-2 .9-2 2v14c0 1.1.9 2 2 2h14c1.1 0 2-.9 2-2V5c0-1.1-.9-2-2-2zM9 17H7v-7h2v7zm4 0h-2V7h2v10zm4 0h-2v-4h2v4z\"/>\n",
              "    </g>\n",
              "</svg>\n",
              "      </button>\n",
              "    </div>\n",
              "\n",
              "<style>\n",
              "  .colab-df-quickchart {\n",
              "    background-color: #E8F0FE;\n",
              "    border: none;\n",
              "    border-radius: 50%;\n",
              "    cursor: pointer;\n",
              "    display: none;\n",
              "    fill: #1967D2;\n",
              "    height: 32px;\n",
              "    padding: 0 0 0 0;\n",
              "    width: 32px;\n",
              "  }\n",
              "\n",
              "  .colab-df-quickchart:hover {\n",
              "    background-color: #E2EBFA;\n",
              "    box-shadow: 0px 1px 2px rgba(60, 64, 67, 0.3), 0px 1px 3px 1px rgba(60, 64, 67, 0.15);\n",
              "    fill: #174EA6;\n",
              "  }\n",
              "\n",
              "  [theme=dark] .colab-df-quickchart {\n",
              "    background-color: #3B4455;\n",
              "    fill: #D2E3FC;\n",
              "  }\n",
              "\n",
              "  [theme=dark] .colab-df-quickchart:hover {\n",
              "    background-color: #434B5C;\n",
              "    box-shadow: 0px 1px 3px 1px rgba(0, 0, 0, 0.15);\n",
              "    filter: drop-shadow(0px 1px 2px rgba(0, 0, 0, 0.3));\n",
              "    fill: #FFFFFF;\n",
              "  }\n",
              "</style>\n",
              "\n",
              "    <script>\n",
              "      async function quickchart(key) {\n",
              "        const containerElement = document.querySelector('#' + key);\n",
              "        const charts = await google.colab.kernel.invokeFunction(\n",
              "            'suggestCharts', [key], {});\n",
              "      }\n",
              "    </script>\n",
              "\n",
              "      <script>\n",
              "\n",
              "function displayQuickchartButton(domScope) {\n",
              "  let quickchartButtonEl =\n",
              "    domScope.querySelector('#df-1273ca1c-bf48-4729-b8d3-2c88b440e776 button.colab-df-quickchart');\n",
              "  quickchartButtonEl.style.display =\n",
              "    google.colab.kernel.accessAllowed ? 'block' : 'none';\n",
              "}\n",
              "\n",
              "        displayQuickchartButton(document);\n",
              "      </script>\n",
              "      <style>\n",
              "    .colab-df-container {\n",
              "      display:flex;\n",
              "      flex-wrap:wrap;\n",
              "      gap: 12px;\n",
              "    }\n",
              "\n",
              "    .colab-df-convert {\n",
              "      background-color: #E8F0FE;\n",
              "      border: none;\n",
              "      border-radius: 50%;\n",
              "      cursor: pointer;\n",
              "      display: none;\n",
              "      fill: #1967D2;\n",
              "      height: 32px;\n",
              "      padding: 0 0 0 0;\n",
              "      width: 32px;\n",
              "    }\n",
              "\n",
              "    .colab-df-convert:hover {\n",
              "      background-color: #E2EBFA;\n",
              "      box-shadow: 0px 1px 2px rgba(60, 64, 67, 0.3), 0px 1px 3px 1px rgba(60, 64, 67, 0.15);\n",
              "      fill: #174EA6;\n",
              "    }\n",
              "\n",
              "    [theme=dark] .colab-df-convert {\n",
              "      background-color: #3B4455;\n",
              "      fill: #D2E3FC;\n",
              "    }\n",
              "\n",
              "    [theme=dark] .colab-df-convert:hover {\n",
              "      background-color: #434B5C;\n",
              "      box-shadow: 0px 1px 3px 1px rgba(0, 0, 0, 0.15);\n",
              "      filter: drop-shadow(0px 1px 2px rgba(0, 0, 0, 0.3));\n",
              "      fill: #FFFFFF;\n",
              "    }\n",
              "  </style>\n",
              "\n",
              "      <script>\n",
              "        const buttonEl =\n",
              "          document.querySelector('#df-9fe5371a-2686-4ae5-9db4-a042999e88ce button.colab-df-convert');\n",
              "        buttonEl.style.display =\n",
              "          google.colab.kernel.accessAllowed ? 'block' : 'none';\n",
              "\n",
              "        async function convertToInteractive(key) {\n",
              "          const element = document.querySelector('#df-9fe5371a-2686-4ae5-9db4-a042999e88ce');\n",
              "          const dataTable =\n",
              "            await google.colab.kernel.invokeFunction('convertToInteractive',\n",
              "                                                     [key], {});\n",
              "          if (!dataTable) return;\n",
              "\n",
              "          const docLinkHtml = 'Like what you see? Visit the ' +\n",
              "            '<a target=\"_blank\" href=https://colab.research.google.com/notebooks/data_table.ipynb>data table notebook</a>'\n",
              "            + ' to learn more about interactive tables.';\n",
              "          element.innerHTML = '';\n",
              "          dataTable['output_type'] = 'display_data';\n",
              "          await google.colab.output.renderOutput(dataTable, element);\n",
              "          const docLink = document.createElement('div');\n",
              "          docLink.innerHTML = docLinkHtml;\n",
              "          element.appendChild(docLink);\n",
              "        }\n",
              "      </script>\n",
              "    </div>\n",
              "  </div>\n"
            ]
          },
          "metadata": {},
          "execution_count": 8
        }
      ]
    },
    {
      "cell_type": "code",
      "source": [
        "df.info()"
      ],
      "metadata": {
        "colab": {
          "base_uri": "https://localhost:8080/"
        },
        "id": "WdIt3x6zMChM",
        "outputId": "eb6657c9-653b-494b-cf84-df926648498b"
      },
      "execution_count": 9,
      "outputs": [
        {
          "output_type": "stream",
          "name": "stdout",
          "text": [
            "<class 'pandas.core.frame.DataFrame'>\n",
            "RangeIndex: 10015 entries, 0 to 10014\n",
            "Data columns (total 7 columns):\n",
            " #   Column        Non-Null Count  Dtype  \n",
            "---  ------        --------------  -----  \n",
            " 0   lesion_id     10015 non-null  object \n",
            " 1   image_id      10015 non-null  object \n",
            " 2   dx            10015 non-null  object \n",
            " 3   dx_type       10015 non-null  object \n",
            " 4   age           9958 non-null   float64\n",
            " 5   sex           10015 non-null  object \n",
            " 6   localization  10015 non-null  object \n",
            "dtypes: float64(1), object(6)\n",
            "memory usage: 547.8+ KB\n"
          ]
        }
      ]
    },
    {
      "cell_type": "code",
      "source": [
        "df.describe()"
      ],
      "metadata": {
        "id": "9V38FXzwMOft"
      },
      "execution_count": null,
      "outputs": []
    },
    {
      "cell_type": "code",
      "source": [
        "df.shape"
      ],
      "metadata": {
        "colab": {
          "base_uri": "https://localhost:8080/"
        },
        "id": "koVuoSLrMOvW",
        "outputId": "bb94deff-8eb7-4e9d-8edb-f94a5a56f1f3"
      },
      "execution_count": 11,
      "outputs": [
        {
          "output_type": "execute_result",
          "data": {
            "text/plain": [
              "(10015, 7)"
            ]
          },
          "metadata": {},
          "execution_count": 11
        }
      ]
    },
    {
      "cell_type": "code",
      "source": [
        "# train test split\n",
        "data_frac=np.array([0.8,0.2])\n",
        "data_frame=data_frame.sample(frac=1)"
      ],
      "metadata": {
        "id": "JJtrL4l9MTzG"
      },
      "execution_count": 13,
      "outputs": []
    },
    {
      "cell_type": "code",
      "source": [
        "train_set, test_set = np.array_split(data_frame,(data_frac[:-1].cumsum() * len(data_frame)).astype(int))"
      ],
      "metadata": {
        "id": "BgUaYoZxMXQv"
      },
      "execution_count": 14,
      "outputs": []
    },
    {
      "cell_type": "code",
      "source": [
        "#values of test and train sets\n",
        "print(len(train_set))\n",
        "print(len(test_set))"
      ],
      "metadata": {
        "colab": {
          "base_uri": "https://localhost:8080/"
        },
        "id": "joKJI4J7Mb-y",
        "outputId": "b1a2f1bc-0bca-47a5-b8b7-7bcc9d35fd72"
      },
      "execution_count": 15,
      "outputs": [
        {
          "output_type": "stream",
          "name": "stdout",
          "text": [
            "8012\n",
            "2003\n"
          ]
        }
      ]
    },
    {
      "cell_type": "code",
      "source": [
        "#the data labels and division of classes\n",
        "print(data_frame.label.unique())\n",
        "\n",
        "classes={\n",
        "    0:('akc', 'actinic keratoses'),\n",
        "    1:('bscc' , 'basal cell carcinoma'),\n",
        "    2:('bkll', 'benign keratosis-like lesions'),\n",
        "    3:('dtf', 'dermatofibroma'),\n",
        "    4:('mnv', ' melanocytic nevi'),\n",
        "    5:('vasc', 'angiomas, angiokeratomas'),\n",
        "    6:('ml', 'melanoma'),}"
      ],
      "metadata": {
        "colab": {
          "base_uri": "https://localhost:8080/"
        },
        "id": "wQXQBon1Mfpt",
        "outputId": "089a480a-a1ea-4ea9-e1e4-2a596702fbbf"
      },
      "execution_count": 16,
      "outputs": [
        {
          "output_type": "stream",
          "name": "stdout",
          "text": [
            "[4 6 0 2 1 5 3]\n"
          ]
        }
      ]
    },
    {
      "cell_type": "code",
      "source": [
        "y_train=train_set['label']\n",
        "print(y_train)\n",
        "\n",
        "x_train=train_set.drop(columns=['label'])"
      ],
      "metadata": {
        "colab": {
          "base_uri": "https://localhost:8080/"
        },
        "id": "R1g2hut-MjAQ",
        "outputId": "e9d283a4-e251-4076-dc26-7d4b711fc8c5"
      },
      "execution_count": 17,
      "outputs": [
        {
          "output_type": "stream",
          "name": "stdout",
          "text": [
            "3322    4\n",
            "9323    4\n",
            "1760    6\n",
            "8999    4\n",
            "6115    4\n",
            "       ..\n",
            "2337    5\n",
            "6521    4\n",
            "9052    4\n",
            "6405    4\n",
            "5977    4\n",
            "Name: label, Length: 8012, dtype: int64\n"
          ]
        }
      ]
    },
    {
      "cell_type": "code",
      "source": [
        "y_test=test_set['label']\n",
        "print(y_test)\n",
        "\n",
        "x_test=test_set.drop(columns=['label'])\n",
        "\n",
        "columns=list(x_train)\n",
        "print(columns)"
      ],
      "metadata": {
        "colab": {
          "base_uri": "https://localhost:8080/"
        },
        "id": "EmqgM9PGMmIC",
        "outputId": "06e1e389-05af-46c5-bfd3-c82d491b647d"
      },
      "execution_count": 18,
      "outputs": [
        {
          "output_type": "stream",
          "name": "stdout",
          "text": [
            "6242    4\n",
            "6308    4\n",
            "5460    4\n",
            "2784    1\n",
            "4285    4\n",
            "       ..\n",
            "9121    4\n",
            "3250    4\n",
            "9913    0\n",
            "958     2\n",
            "2444    5\n",
            "Name: label, Length: 2003, dtype: int64\n",
            "['pixel0000', 'pixel0001', 'pixel0002', 'pixel0003', 'pixel0004', 'pixel0005', 'pixel0006', 'pixel0007', 'pixel0008', 'pixel0009', 'pixel0010', 'pixel0011', 'pixel0012', 'pixel0013', 'pixel0014', 'pixel0015', 'pixel0016', 'pixel0017', 'pixel0018', 'pixel0019', 'pixel0020', 'pixel0021', 'pixel0022', 'pixel0023', 'pixel0024', 'pixel0025', 'pixel0026', 'pixel0027', 'pixel0028', 'pixel0029', 'pixel0030', 'pixel0031', 'pixel0032', 'pixel0033', 'pixel0034', 'pixel0035', 'pixel0036', 'pixel0037', 'pixel0038', 'pixel0039', 'pixel0040', 'pixel0041', 'pixel0042', 'pixel0043', 'pixel0044', 'pixel0045', 'pixel0046', 'pixel0047', 'pixel0048', 'pixel0049', 'pixel0050', 'pixel0051', 'pixel0052', 'pixel0053', 'pixel0054', 'pixel0055', 'pixel0056', 'pixel0057', 'pixel0058', 'pixel0059', 'pixel0060', 'pixel0061', 'pixel0062', 'pixel0063', 'pixel0064', 'pixel0065', 'pixel0066', 'pixel0067', 'pixel0068', 'pixel0069', 'pixel0070', 'pixel0071', 'pixel0072', 'pixel0073', 'pixel0074', 'pixel0075', 'pixel0076', 'pixel0077', 'pixel0078', 'pixel0079', 'pixel0080', 'pixel0081', 'pixel0082', 'pixel0083', 'pixel0084', 'pixel0085', 'pixel0086', 'pixel0087', 'pixel0088', 'pixel0089', 'pixel0090', 'pixel0091', 'pixel0092', 'pixel0093', 'pixel0094', 'pixel0095', 'pixel0096', 'pixel0097', 'pixel0098', 'pixel0099', 'pixel0100', 'pixel0101', 'pixel0102', 'pixel0103', 'pixel0104', 'pixel0105', 'pixel0106', 'pixel0107', 'pixel0108', 'pixel0109', 'pixel0110', 'pixel0111', 'pixel0112', 'pixel0113', 'pixel0114', 'pixel0115', 'pixel0116', 'pixel0117', 'pixel0118', 'pixel0119', 'pixel0120', 'pixel0121', 'pixel0122', 'pixel0123', 'pixel0124', 'pixel0125', 'pixel0126', 'pixel0127', 'pixel0128', 'pixel0129', 'pixel0130', 'pixel0131', 'pixel0132', 'pixel0133', 'pixel0134', 'pixel0135', 'pixel0136', 'pixel0137', 'pixel0138', 'pixel0139', 'pixel0140', 'pixel0141', 'pixel0142', 'pixel0143', 'pixel0144', 'pixel0145', 'pixel0146', 'pixel0147', 'pixel0148', 'pixel0149', 'pixel0150', 'pixel0151', 'pixel0152', 'pixel0153', 'pixel0154', 'pixel0155', 'pixel0156', 'pixel0157', 'pixel0158', 'pixel0159', 'pixel0160', 'pixel0161', 'pixel0162', 'pixel0163', 'pixel0164', 'pixel0165', 'pixel0166', 'pixel0167', 'pixel0168', 'pixel0169', 'pixel0170', 'pixel0171', 'pixel0172', 'pixel0173', 'pixel0174', 'pixel0175', 'pixel0176', 'pixel0177', 'pixel0178', 'pixel0179', 'pixel0180', 'pixel0181', 'pixel0182', 'pixel0183', 'pixel0184', 'pixel0185', 'pixel0186', 'pixel0187', 'pixel0188', 'pixel0189', 'pixel0190', 'pixel0191', 'pixel0192', 'pixel0193', 'pixel0194', 'pixel0195', 'pixel0196', 'pixel0197', 'pixel0198', 'pixel0199', 'pixel0200', 'pixel0201', 'pixel0202', 'pixel0203', 'pixel0204', 'pixel0205', 'pixel0206', 'pixel0207', 'pixel0208', 'pixel0209', 'pixel0210', 'pixel0211', 'pixel0212', 'pixel0213', 'pixel0214', 'pixel0215', 'pixel0216', 'pixel0217', 'pixel0218', 'pixel0219', 'pixel0220', 'pixel0221', 'pixel0222', 'pixel0223', 'pixel0224', 'pixel0225', 'pixel0226', 'pixel0227', 'pixel0228', 'pixel0229', 'pixel0230', 'pixel0231', 'pixel0232', 'pixel0233', 'pixel0234', 'pixel0235', 'pixel0236', 'pixel0237', 'pixel0238', 'pixel0239', 'pixel0240', 'pixel0241', 'pixel0242', 'pixel0243', 'pixel0244', 'pixel0245', 'pixel0246', 'pixel0247', 'pixel0248', 'pixel0249', 'pixel0250', 'pixel0251', 'pixel0252', 'pixel0253', 'pixel0254', 'pixel0255', 'pixel0256', 'pixel0257', 'pixel0258', 'pixel0259', 'pixel0260', 'pixel0261', 'pixel0262', 'pixel0263', 'pixel0264', 'pixel0265', 'pixel0266', 'pixel0267', 'pixel0268', 'pixel0269', 'pixel0270', 'pixel0271', 'pixel0272', 'pixel0273', 'pixel0274', 'pixel0275', 'pixel0276', 'pixel0277', 'pixel0278', 'pixel0279', 'pixel0280', 'pixel0281', 'pixel0282', 'pixel0283', 'pixel0284', 'pixel0285', 'pixel0286', 'pixel0287', 'pixel0288', 'pixel0289', 'pixel0290', 'pixel0291', 'pixel0292', 'pixel0293', 'pixel0294', 'pixel0295', 'pixel0296', 'pixel0297', 'pixel0298', 'pixel0299', 'pixel0300', 'pixel0301', 'pixel0302', 'pixel0303', 'pixel0304', 'pixel0305', 'pixel0306', 'pixel0307', 'pixel0308', 'pixel0309', 'pixel0310', 'pixel0311', 'pixel0312', 'pixel0313', 'pixel0314', 'pixel0315', 'pixel0316', 'pixel0317', 'pixel0318', 'pixel0319', 'pixel0320', 'pixel0321', 'pixel0322', 'pixel0323', 'pixel0324', 'pixel0325', 'pixel0326', 'pixel0327', 'pixel0328', 'pixel0329', 'pixel0330', 'pixel0331', 'pixel0332', 'pixel0333', 'pixel0334', 'pixel0335', 'pixel0336', 'pixel0337', 'pixel0338', 'pixel0339', 'pixel0340', 'pixel0341', 'pixel0342', 'pixel0343', 'pixel0344', 'pixel0345', 'pixel0346', 'pixel0347', 'pixel0348', 'pixel0349', 'pixel0350', 'pixel0351', 'pixel0352', 'pixel0353', 'pixel0354', 'pixel0355', 'pixel0356', 'pixel0357', 'pixel0358', 'pixel0359', 'pixel0360', 'pixel0361', 'pixel0362', 'pixel0363', 'pixel0364', 'pixel0365', 'pixel0366', 'pixel0367', 'pixel0368', 'pixel0369', 'pixel0370', 'pixel0371', 'pixel0372', 'pixel0373', 'pixel0374', 'pixel0375', 'pixel0376', 'pixel0377', 'pixel0378', 'pixel0379', 'pixel0380', 'pixel0381', 'pixel0382', 'pixel0383', 'pixel0384', 'pixel0385', 'pixel0386', 'pixel0387', 'pixel0388', 'pixel0389', 'pixel0390', 'pixel0391', 'pixel0392', 'pixel0393', 'pixel0394', 'pixel0395', 'pixel0396', 'pixel0397', 'pixel0398', 'pixel0399', 'pixel0400', 'pixel0401', 'pixel0402', 'pixel0403', 'pixel0404', 'pixel0405', 'pixel0406', 'pixel0407', 'pixel0408', 'pixel0409', 'pixel0410', 'pixel0411', 'pixel0412', 'pixel0413', 'pixel0414', 'pixel0415', 'pixel0416', 'pixel0417', 'pixel0418', 'pixel0419', 'pixel0420', 'pixel0421', 'pixel0422', 'pixel0423', 'pixel0424', 'pixel0425', 'pixel0426', 'pixel0427', 'pixel0428', 'pixel0429', 'pixel0430', 'pixel0431', 'pixel0432', 'pixel0433', 'pixel0434', 'pixel0435', 'pixel0436', 'pixel0437', 'pixel0438', 'pixel0439', 'pixel0440', 'pixel0441', 'pixel0442', 'pixel0443', 'pixel0444', 'pixel0445', 'pixel0446', 'pixel0447', 'pixel0448', 'pixel0449', 'pixel0450', 'pixel0451', 'pixel0452', 'pixel0453', 'pixel0454', 'pixel0455', 'pixel0456', 'pixel0457', 'pixel0458', 'pixel0459', 'pixel0460', 'pixel0461', 'pixel0462', 'pixel0463', 'pixel0464', 'pixel0465', 'pixel0466', 'pixel0467', 'pixel0468', 'pixel0469', 'pixel0470', 'pixel0471', 'pixel0472', 'pixel0473', 'pixel0474', 'pixel0475', 'pixel0476', 'pixel0477', 'pixel0478', 'pixel0479', 'pixel0480', 'pixel0481', 'pixel0482', 'pixel0483', 'pixel0484', 'pixel0485', 'pixel0486', 'pixel0487', 'pixel0488', 'pixel0489', 'pixel0490', 'pixel0491', 'pixel0492', 'pixel0493', 'pixel0494', 'pixel0495', 'pixel0496', 'pixel0497', 'pixel0498', 'pixel0499', 'pixel0500', 'pixel0501', 'pixel0502', 'pixel0503', 'pixel0504', 'pixel0505', 'pixel0506', 'pixel0507', 'pixel0508', 'pixel0509', 'pixel0510', 'pixel0511', 'pixel0512', 'pixel0513', 'pixel0514', 'pixel0515', 'pixel0516', 'pixel0517', 'pixel0518', 'pixel0519', 'pixel0520', 'pixel0521', 'pixel0522', 'pixel0523', 'pixel0524', 'pixel0525', 'pixel0526', 'pixel0527', 'pixel0528', 'pixel0529', 'pixel0530', 'pixel0531', 'pixel0532', 'pixel0533', 'pixel0534', 'pixel0535', 'pixel0536', 'pixel0537', 'pixel0538', 'pixel0539', 'pixel0540', 'pixel0541', 'pixel0542', 'pixel0543', 'pixel0544', 'pixel0545', 'pixel0546', 'pixel0547', 'pixel0548', 'pixel0549', 'pixel0550', 'pixel0551', 'pixel0552', 'pixel0553', 'pixel0554', 'pixel0555', 'pixel0556', 'pixel0557', 'pixel0558', 'pixel0559', 'pixel0560', 'pixel0561', 'pixel0562', 'pixel0563', 'pixel0564', 'pixel0565', 'pixel0566', 'pixel0567', 'pixel0568', 'pixel0569', 'pixel0570', 'pixel0571', 'pixel0572', 'pixel0573', 'pixel0574', 'pixel0575', 'pixel0576', 'pixel0577', 'pixel0578', 'pixel0579', 'pixel0580', 'pixel0581', 'pixel0582', 'pixel0583', 'pixel0584', 'pixel0585', 'pixel0586', 'pixel0587', 'pixel0588', 'pixel0589', 'pixel0590', 'pixel0591', 'pixel0592', 'pixel0593', 'pixel0594', 'pixel0595', 'pixel0596', 'pixel0597', 'pixel0598', 'pixel0599', 'pixel0600', 'pixel0601', 'pixel0602', 'pixel0603', 'pixel0604', 'pixel0605', 'pixel0606', 'pixel0607', 'pixel0608', 'pixel0609', 'pixel0610', 'pixel0611', 'pixel0612', 'pixel0613', 'pixel0614', 'pixel0615', 'pixel0616', 'pixel0617', 'pixel0618', 'pixel0619', 'pixel0620', 'pixel0621', 'pixel0622', 'pixel0623', 'pixel0624', 'pixel0625', 'pixel0626', 'pixel0627', 'pixel0628', 'pixel0629', 'pixel0630', 'pixel0631', 'pixel0632', 'pixel0633', 'pixel0634', 'pixel0635', 'pixel0636', 'pixel0637', 'pixel0638', 'pixel0639', 'pixel0640', 'pixel0641', 'pixel0642', 'pixel0643', 'pixel0644', 'pixel0645', 'pixel0646', 'pixel0647', 'pixel0648', 'pixel0649', 'pixel0650', 'pixel0651', 'pixel0652', 'pixel0653', 'pixel0654', 'pixel0655', 'pixel0656', 'pixel0657', 'pixel0658', 'pixel0659', 'pixel0660', 'pixel0661', 'pixel0662', 'pixel0663', 'pixel0664', 'pixel0665', 'pixel0666', 'pixel0667', 'pixel0668', 'pixel0669', 'pixel0670', 'pixel0671', 'pixel0672', 'pixel0673', 'pixel0674', 'pixel0675', 'pixel0676', 'pixel0677', 'pixel0678', 'pixel0679', 'pixel0680', 'pixel0681', 'pixel0682', 'pixel0683', 'pixel0684', 'pixel0685', 'pixel0686', 'pixel0687', 'pixel0688', 'pixel0689', 'pixel0690', 'pixel0691', 'pixel0692', 'pixel0693', 'pixel0694', 'pixel0695', 'pixel0696', 'pixel0697', 'pixel0698', 'pixel0699', 'pixel0700', 'pixel0701', 'pixel0702', 'pixel0703', 'pixel0704', 'pixel0705', 'pixel0706', 'pixel0707', 'pixel0708', 'pixel0709', 'pixel0710', 'pixel0711', 'pixel0712', 'pixel0713', 'pixel0714', 'pixel0715', 'pixel0716', 'pixel0717', 'pixel0718', 'pixel0719', 'pixel0720', 'pixel0721', 'pixel0722', 'pixel0723', 'pixel0724', 'pixel0725', 'pixel0726', 'pixel0727', 'pixel0728', 'pixel0729', 'pixel0730', 'pixel0731', 'pixel0732', 'pixel0733', 'pixel0734', 'pixel0735', 'pixel0736', 'pixel0737', 'pixel0738', 'pixel0739', 'pixel0740', 'pixel0741', 'pixel0742', 'pixel0743', 'pixel0744', 'pixel0745', 'pixel0746', 'pixel0747', 'pixel0748', 'pixel0749', 'pixel0750', 'pixel0751', 'pixel0752', 'pixel0753', 'pixel0754', 'pixel0755', 'pixel0756', 'pixel0757', 'pixel0758', 'pixel0759', 'pixel0760', 'pixel0761', 'pixel0762', 'pixel0763', 'pixel0764', 'pixel0765', 'pixel0766', 'pixel0767', 'pixel0768', 'pixel0769', 'pixel0770', 'pixel0771', 'pixel0772', 'pixel0773', 'pixel0774', 'pixel0775', 'pixel0776', 'pixel0777', 'pixel0778', 'pixel0779', 'pixel0780', 'pixel0781', 'pixel0782', 'pixel0783', 'pixel0784', 'pixel0785', 'pixel0786', 'pixel0787', 'pixel0788', 'pixel0789', 'pixel0790', 'pixel0791', 'pixel0792', 'pixel0793', 'pixel0794', 'pixel0795', 'pixel0796', 'pixel0797', 'pixel0798', 'pixel0799', 'pixel0800', 'pixel0801', 'pixel0802', 'pixel0803', 'pixel0804', 'pixel0805', 'pixel0806', 'pixel0807', 'pixel0808', 'pixel0809', 'pixel0810', 'pixel0811', 'pixel0812', 'pixel0813', 'pixel0814', 'pixel0815', 'pixel0816', 'pixel0817', 'pixel0818', 'pixel0819', 'pixel0820', 'pixel0821', 'pixel0822', 'pixel0823', 'pixel0824', 'pixel0825', 'pixel0826', 'pixel0827', 'pixel0828', 'pixel0829', 'pixel0830', 'pixel0831', 'pixel0832', 'pixel0833', 'pixel0834', 'pixel0835', 'pixel0836', 'pixel0837', 'pixel0838', 'pixel0839', 'pixel0840', 'pixel0841', 'pixel0842', 'pixel0843', 'pixel0844', 'pixel0845', 'pixel0846', 'pixel0847', 'pixel0848', 'pixel0849', 'pixel0850', 'pixel0851', 'pixel0852', 'pixel0853', 'pixel0854', 'pixel0855', 'pixel0856', 'pixel0857', 'pixel0858', 'pixel0859', 'pixel0860', 'pixel0861', 'pixel0862', 'pixel0863', 'pixel0864', 'pixel0865', 'pixel0866', 'pixel0867', 'pixel0868', 'pixel0869', 'pixel0870', 'pixel0871', 'pixel0872', 'pixel0873', 'pixel0874', 'pixel0875', 'pixel0876', 'pixel0877', 'pixel0878', 'pixel0879', 'pixel0880', 'pixel0881', 'pixel0882', 'pixel0883', 'pixel0884', 'pixel0885', 'pixel0886', 'pixel0887', 'pixel0888', 'pixel0889', 'pixel0890', 'pixel0891', 'pixel0892', 'pixel0893', 'pixel0894', 'pixel0895', 'pixel0896', 'pixel0897', 'pixel0898', 'pixel0899', 'pixel0900', 'pixel0901', 'pixel0902', 'pixel0903', 'pixel0904', 'pixel0905', 'pixel0906', 'pixel0907', 'pixel0908', 'pixel0909', 'pixel0910', 'pixel0911', 'pixel0912', 'pixel0913', 'pixel0914', 'pixel0915', 'pixel0916', 'pixel0917', 'pixel0918', 'pixel0919', 'pixel0920', 'pixel0921', 'pixel0922', 'pixel0923', 'pixel0924', 'pixel0925', 'pixel0926', 'pixel0927', 'pixel0928', 'pixel0929', 'pixel0930', 'pixel0931', 'pixel0932', 'pixel0933', 'pixel0934', 'pixel0935', 'pixel0936', 'pixel0937', 'pixel0938', 'pixel0939', 'pixel0940', 'pixel0941', 'pixel0942', 'pixel0943', 'pixel0944', 'pixel0945', 'pixel0946', 'pixel0947', 'pixel0948', 'pixel0949', 'pixel0950', 'pixel0951', 'pixel0952', 'pixel0953', 'pixel0954', 'pixel0955', 'pixel0956', 'pixel0957', 'pixel0958', 'pixel0959', 'pixel0960', 'pixel0961', 'pixel0962', 'pixel0963', 'pixel0964', 'pixel0965', 'pixel0966', 'pixel0967', 'pixel0968', 'pixel0969', 'pixel0970', 'pixel0971', 'pixel0972', 'pixel0973', 'pixel0974', 'pixel0975', 'pixel0976', 'pixel0977', 'pixel0978', 'pixel0979', 'pixel0980', 'pixel0981', 'pixel0982', 'pixel0983', 'pixel0984', 'pixel0985', 'pixel0986', 'pixel0987', 'pixel0988', 'pixel0989', 'pixel0990', 'pixel0991', 'pixel0992', 'pixel0993', 'pixel0994', 'pixel0995', 'pixel0996', 'pixel0997', 'pixel0998', 'pixel0999', 'pixel1000', 'pixel1001', 'pixel1002', 'pixel1003', 'pixel1004', 'pixel1005', 'pixel1006', 'pixel1007', 'pixel1008', 'pixel1009', 'pixel1010', 'pixel1011', 'pixel1012', 'pixel1013', 'pixel1014', 'pixel1015', 'pixel1016', 'pixel1017', 'pixel1018', 'pixel1019', 'pixel1020', 'pixel1021', 'pixel1022', 'pixel1023', 'pixel1024', 'pixel1025', 'pixel1026', 'pixel1027', 'pixel1028', 'pixel1029', 'pixel1030', 'pixel1031', 'pixel1032', 'pixel1033', 'pixel1034', 'pixel1035', 'pixel1036', 'pixel1037', 'pixel1038', 'pixel1039', 'pixel1040', 'pixel1041', 'pixel1042', 'pixel1043', 'pixel1044', 'pixel1045', 'pixel1046', 'pixel1047', 'pixel1048', 'pixel1049', 'pixel1050', 'pixel1051', 'pixel1052', 'pixel1053', 'pixel1054', 'pixel1055', 'pixel1056', 'pixel1057', 'pixel1058', 'pixel1059', 'pixel1060', 'pixel1061', 'pixel1062', 'pixel1063', 'pixel1064', 'pixel1065', 'pixel1066', 'pixel1067', 'pixel1068', 'pixel1069', 'pixel1070', 'pixel1071', 'pixel1072', 'pixel1073', 'pixel1074', 'pixel1075', 'pixel1076', 'pixel1077', 'pixel1078', 'pixel1079', 'pixel1080', 'pixel1081', 'pixel1082', 'pixel1083', 'pixel1084', 'pixel1085', 'pixel1086', 'pixel1087', 'pixel1088', 'pixel1089', 'pixel1090', 'pixel1091', 'pixel1092', 'pixel1093', 'pixel1094', 'pixel1095', 'pixel1096', 'pixel1097', 'pixel1098', 'pixel1099', 'pixel1100', 'pixel1101', 'pixel1102', 'pixel1103', 'pixel1104', 'pixel1105', 'pixel1106', 'pixel1107', 'pixel1108', 'pixel1109', 'pixel1110', 'pixel1111', 'pixel1112', 'pixel1113', 'pixel1114', 'pixel1115', 'pixel1116', 'pixel1117', 'pixel1118', 'pixel1119', 'pixel1120', 'pixel1121', 'pixel1122', 'pixel1123', 'pixel1124', 'pixel1125', 'pixel1126', 'pixel1127', 'pixel1128', 'pixel1129', 'pixel1130', 'pixel1131', 'pixel1132', 'pixel1133', 'pixel1134', 'pixel1135', 'pixel1136', 'pixel1137', 'pixel1138', 'pixel1139', 'pixel1140', 'pixel1141', 'pixel1142', 'pixel1143', 'pixel1144', 'pixel1145', 'pixel1146', 'pixel1147', 'pixel1148', 'pixel1149', 'pixel1150', 'pixel1151', 'pixel1152', 'pixel1153', 'pixel1154', 'pixel1155', 'pixel1156', 'pixel1157', 'pixel1158', 'pixel1159', 'pixel1160', 'pixel1161', 'pixel1162', 'pixel1163', 'pixel1164', 'pixel1165', 'pixel1166', 'pixel1167', 'pixel1168', 'pixel1169', 'pixel1170', 'pixel1171', 'pixel1172', 'pixel1173', 'pixel1174', 'pixel1175', 'pixel1176', 'pixel1177', 'pixel1178', 'pixel1179', 'pixel1180', 'pixel1181', 'pixel1182', 'pixel1183', 'pixel1184', 'pixel1185', 'pixel1186', 'pixel1187', 'pixel1188', 'pixel1189', 'pixel1190', 'pixel1191', 'pixel1192', 'pixel1193', 'pixel1194', 'pixel1195', 'pixel1196', 'pixel1197', 'pixel1198', 'pixel1199', 'pixel1200', 'pixel1201', 'pixel1202', 'pixel1203', 'pixel1204', 'pixel1205', 'pixel1206', 'pixel1207', 'pixel1208', 'pixel1209', 'pixel1210', 'pixel1211', 'pixel1212', 'pixel1213', 'pixel1214', 'pixel1215', 'pixel1216', 'pixel1217', 'pixel1218', 'pixel1219', 'pixel1220', 'pixel1221', 'pixel1222', 'pixel1223', 'pixel1224', 'pixel1225', 'pixel1226', 'pixel1227', 'pixel1228', 'pixel1229', 'pixel1230', 'pixel1231', 'pixel1232', 'pixel1233', 'pixel1234', 'pixel1235', 'pixel1236', 'pixel1237', 'pixel1238', 'pixel1239', 'pixel1240', 'pixel1241', 'pixel1242', 'pixel1243', 'pixel1244', 'pixel1245', 'pixel1246', 'pixel1247', 'pixel1248', 'pixel1249', 'pixel1250', 'pixel1251', 'pixel1252', 'pixel1253', 'pixel1254', 'pixel1255', 'pixel1256', 'pixel1257', 'pixel1258', 'pixel1259', 'pixel1260', 'pixel1261', 'pixel1262', 'pixel1263', 'pixel1264', 'pixel1265', 'pixel1266', 'pixel1267', 'pixel1268', 'pixel1269', 'pixel1270', 'pixel1271', 'pixel1272', 'pixel1273', 'pixel1274', 'pixel1275', 'pixel1276', 'pixel1277', 'pixel1278', 'pixel1279', 'pixel1280', 'pixel1281', 'pixel1282', 'pixel1283', 'pixel1284', 'pixel1285', 'pixel1286', 'pixel1287', 'pixel1288', 'pixel1289', 'pixel1290', 'pixel1291', 'pixel1292', 'pixel1293', 'pixel1294', 'pixel1295', 'pixel1296', 'pixel1297', 'pixel1298', 'pixel1299', 'pixel1300', 'pixel1301', 'pixel1302', 'pixel1303', 'pixel1304', 'pixel1305', 'pixel1306', 'pixel1307', 'pixel1308', 'pixel1309', 'pixel1310', 'pixel1311', 'pixel1312', 'pixel1313', 'pixel1314', 'pixel1315', 'pixel1316', 'pixel1317', 'pixel1318', 'pixel1319', 'pixel1320', 'pixel1321', 'pixel1322', 'pixel1323', 'pixel1324', 'pixel1325', 'pixel1326', 'pixel1327', 'pixel1328', 'pixel1329', 'pixel1330', 'pixel1331', 'pixel1332', 'pixel1333', 'pixel1334', 'pixel1335', 'pixel1336', 'pixel1337', 'pixel1338', 'pixel1339', 'pixel1340', 'pixel1341', 'pixel1342', 'pixel1343', 'pixel1344', 'pixel1345', 'pixel1346', 'pixel1347', 'pixel1348', 'pixel1349', 'pixel1350', 'pixel1351', 'pixel1352', 'pixel1353', 'pixel1354', 'pixel1355', 'pixel1356', 'pixel1357', 'pixel1358', 'pixel1359', 'pixel1360', 'pixel1361', 'pixel1362', 'pixel1363', 'pixel1364', 'pixel1365', 'pixel1366', 'pixel1367', 'pixel1368', 'pixel1369', 'pixel1370', 'pixel1371', 'pixel1372', 'pixel1373', 'pixel1374', 'pixel1375', 'pixel1376', 'pixel1377', 'pixel1378', 'pixel1379', 'pixel1380', 'pixel1381', 'pixel1382', 'pixel1383', 'pixel1384', 'pixel1385', 'pixel1386', 'pixel1387', 'pixel1388', 'pixel1389', 'pixel1390', 'pixel1391', 'pixel1392', 'pixel1393', 'pixel1394', 'pixel1395', 'pixel1396', 'pixel1397', 'pixel1398', 'pixel1399', 'pixel1400', 'pixel1401', 'pixel1402', 'pixel1403', 'pixel1404', 'pixel1405', 'pixel1406', 'pixel1407', 'pixel1408', 'pixel1409', 'pixel1410', 'pixel1411', 'pixel1412', 'pixel1413', 'pixel1414', 'pixel1415', 'pixel1416', 'pixel1417', 'pixel1418', 'pixel1419', 'pixel1420', 'pixel1421', 'pixel1422', 'pixel1423', 'pixel1424', 'pixel1425', 'pixel1426', 'pixel1427', 'pixel1428', 'pixel1429', 'pixel1430', 'pixel1431', 'pixel1432', 'pixel1433', 'pixel1434', 'pixel1435', 'pixel1436', 'pixel1437', 'pixel1438', 'pixel1439', 'pixel1440', 'pixel1441', 'pixel1442', 'pixel1443', 'pixel1444', 'pixel1445', 'pixel1446', 'pixel1447', 'pixel1448', 'pixel1449', 'pixel1450', 'pixel1451', 'pixel1452', 'pixel1453', 'pixel1454', 'pixel1455', 'pixel1456', 'pixel1457', 'pixel1458', 'pixel1459', 'pixel1460', 'pixel1461', 'pixel1462', 'pixel1463', 'pixel1464', 'pixel1465', 'pixel1466', 'pixel1467', 'pixel1468', 'pixel1469', 'pixel1470', 'pixel1471', 'pixel1472', 'pixel1473', 'pixel1474', 'pixel1475', 'pixel1476', 'pixel1477', 'pixel1478', 'pixel1479', 'pixel1480', 'pixel1481', 'pixel1482', 'pixel1483', 'pixel1484', 'pixel1485', 'pixel1486', 'pixel1487', 'pixel1488', 'pixel1489', 'pixel1490', 'pixel1491', 'pixel1492', 'pixel1493', 'pixel1494', 'pixel1495', 'pixel1496', 'pixel1497', 'pixel1498', 'pixel1499', 'pixel1500', 'pixel1501', 'pixel1502', 'pixel1503', 'pixel1504', 'pixel1505', 'pixel1506', 'pixel1507', 'pixel1508', 'pixel1509', 'pixel1510', 'pixel1511', 'pixel1512', 'pixel1513', 'pixel1514', 'pixel1515', 'pixel1516', 'pixel1517', 'pixel1518', 'pixel1519', 'pixel1520', 'pixel1521', 'pixel1522', 'pixel1523', 'pixel1524', 'pixel1525', 'pixel1526', 'pixel1527', 'pixel1528', 'pixel1529', 'pixel1530', 'pixel1531', 'pixel1532', 'pixel1533', 'pixel1534', 'pixel1535', 'pixel1536', 'pixel1537', 'pixel1538', 'pixel1539', 'pixel1540', 'pixel1541', 'pixel1542', 'pixel1543', 'pixel1544', 'pixel1545', 'pixel1546', 'pixel1547', 'pixel1548', 'pixel1549', 'pixel1550', 'pixel1551', 'pixel1552', 'pixel1553', 'pixel1554', 'pixel1555', 'pixel1556', 'pixel1557', 'pixel1558', 'pixel1559', 'pixel1560', 'pixel1561', 'pixel1562', 'pixel1563', 'pixel1564', 'pixel1565', 'pixel1566', 'pixel1567', 'pixel1568', 'pixel1569', 'pixel1570', 'pixel1571', 'pixel1572', 'pixel1573', 'pixel1574', 'pixel1575', 'pixel1576', 'pixel1577', 'pixel1578', 'pixel1579', 'pixel1580', 'pixel1581', 'pixel1582', 'pixel1583', 'pixel1584', 'pixel1585', 'pixel1586', 'pixel1587', 'pixel1588', 'pixel1589', 'pixel1590', 'pixel1591', 'pixel1592', 'pixel1593', 'pixel1594', 'pixel1595', 'pixel1596', 'pixel1597', 'pixel1598', 'pixel1599', 'pixel1600', 'pixel1601', 'pixel1602', 'pixel1603', 'pixel1604', 'pixel1605', 'pixel1606', 'pixel1607', 'pixel1608', 'pixel1609', 'pixel1610', 'pixel1611', 'pixel1612', 'pixel1613', 'pixel1614', 'pixel1615', 'pixel1616', 'pixel1617', 'pixel1618', 'pixel1619', 'pixel1620', 'pixel1621', 'pixel1622', 'pixel1623', 'pixel1624', 'pixel1625', 'pixel1626', 'pixel1627', 'pixel1628', 'pixel1629', 'pixel1630', 'pixel1631', 'pixel1632', 'pixel1633', 'pixel1634', 'pixel1635', 'pixel1636', 'pixel1637', 'pixel1638', 'pixel1639', 'pixel1640', 'pixel1641', 'pixel1642', 'pixel1643', 'pixel1644', 'pixel1645', 'pixel1646', 'pixel1647', 'pixel1648', 'pixel1649', 'pixel1650', 'pixel1651', 'pixel1652', 'pixel1653', 'pixel1654', 'pixel1655', 'pixel1656', 'pixel1657', 'pixel1658', 'pixel1659', 'pixel1660', 'pixel1661', 'pixel1662', 'pixel1663', 'pixel1664', 'pixel1665', 'pixel1666', 'pixel1667', 'pixel1668', 'pixel1669', 'pixel1670', 'pixel1671', 'pixel1672', 'pixel1673', 'pixel1674', 'pixel1675', 'pixel1676', 'pixel1677', 'pixel1678', 'pixel1679', 'pixel1680', 'pixel1681', 'pixel1682', 'pixel1683', 'pixel1684', 'pixel1685', 'pixel1686', 'pixel1687', 'pixel1688', 'pixel1689', 'pixel1690', 'pixel1691', 'pixel1692', 'pixel1693', 'pixel1694', 'pixel1695', 'pixel1696', 'pixel1697', 'pixel1698', 'pixel1699', 'pixel1700', 'pixel1701', 'pixel1702', 'pixel1703', 'pixel1704', 'pixel1705', 'pixel1706', 'pixel1707', 'pixel1708', 'pixel1709', 'pixel1710', 'pixel1711', 'pixel1712', 'pixel1713', 'pixel1714', 'pixel1715', 'pixel1716', 'pixel1717', 'pixel1718', 'pixel1719', 'pixel1720', 'pixel1721', 'pixel1722', 'pixel1723', 'pixel1724', 'pixel1725', 'pixel1726', 'pixel1727', 'pixel1728', 'pixel1729', 'pixel1730', 'pixel1731', 'pixel1732', 'pixel1733', 'pixel1734', 'pixel1735', 'pixel1736', 'pixel1737', 'pixel1738', 'pixel1739', 'pixel1740', 'pixel1741', 'pixel1742', 'pixel1743', 'pixel1744', 'pixel1745', 'pixel1746', 'pixel1747', 'pixel1748', 'pixel1749', 'pixel1750', 'pixel1751', 'pixel1752', 'pixel1753', 'pixel1754', 'pixel1755', 'pixel1756', 'pixel1757', 'pixel1758', 'pixel1759', 'pixel1760', 'pixel1761', 'pixel1762', 'pixel1763', 'pixel1764', 'pixel1765', 'pixel1766', 'pixel1767', 'pixel1768', 'pixel1769', 'pixel1770', 'pixel1771', 'pixel1772', 'pixel1773', 'pixel1774', 'pixel1775', 'pixel1776', 'pixel1777', 'pixel1778', 'pixel1779', 'pixel1780', 'pixel1781', 'pixel1782', 'pixel1783', 'pixel1784', 'pixel1785', 'pixel1786', 'pixel1787', 'pixel1788', 'pixel1789', 'pixel1790', 'pixel1791', 'pixel1792', 'pixel1793', 'pixel1794', 'pixel1795', 'pixel1796', 'pixel1797', 'pixel1798', 'pixel1799', 'pixel1800', 'pixel1801', 'pixel1802', 'pixel1803', 'pixel1804', 'pixel1805', 'pixel1806', 'pixel1807', 'pixel1808', 'pixel1809', 'pixel1810', 'pixel1811', 'pixel1812', 'pixel1813', 'pixel1814', 'pixel1815', 'pixel1816', 'pixel1817', 'pixel1818', 'pixel1819', 'pixel1820', 'pixel1821', 'pixel1822', 'pixel1823', 'pixel1824', 'pixel1825', 'pixel1826', 'pixel1827', 'pixel1828', 'pixel1829', 'pixel1830', 'pixel1831', 'pixel1832', 'pixel1833', 'pixel1834', 'pixel1835', 'pixel1836', 'pixel1837', 'pixel1838', 'pixel1839', 'pixel1840', 'pixel1841', 'pixel1842', 'pixel1843', 'pixel1844', 'pixel1845', 'pixel1846', 'pixel1847', 'pixel1848', 'pixel1849', 'pixel1850', 'pixel1851', 'pixel1852', 'pixel1853', 'pixel1854', 'pixel1855', 'pixel1856', 'pixel1857', 'pixel1858', 'pixel1859', 'pixel1860', 'pixel1861', 'pixel1862', 'pixel1863', 'pixel1864', 'pixel1865', 'pixel1866', 'pixel1867', 'pixel1868', 'pixel1869', 'pixel1870', 'pixel1871', 'pixel1872', 'pixel1873', 'pixel1874', 'pixel1875', 'pixel1876', 'pixel1877', 'pixel1878', 'pixel1879', 'pixel1880', 'pixel1881', 'pixel1882', 'pixel1883', 'pixel1884', 'pixel1885', 'pixel1886', 'pixel1887', 'pixel1888', 'pixel1889', 'pixel1890', 'pixel1891', 'pixel1892', 'pixel1893', 'pixel1894', 'pixel1895', 'pixel1896', 'pixel1897', 'pixel1898', 'pixel1899', 'pixel1900', 'pixel1901', 'pixel1902', 'pixel1903', 'pixel1904', 'pixel1905', 'pixel1906', 'pixel1907', 'pixel1908', 'pixel1909', 'pixel1910', 'pixel1911', 'pixel1912', 'pixel1913', 'pixel1914', 'pixel1915', 'pixel1916', 'pixel1917', 'pixel1918', 'pixel1919', 'pixel1920', 'pixel1921', 'pixel1922', 'pixel1923', 'pixel1924', 'pixel1925', 'pixel1926', 'pixel1927', 'pixel1928', 'pixel1929', 'pixel1930', 'pixel1931', 'pixel1932', 'pixel1933', 'pixel1934', 'pixel1935', 'pixel1936', 'pixel1937', 'pixel1938', 'pixel1939', 'pixel1940', 'pixel1941', 'pixel1942', 'pixel1943', 'pixel1944', 'pixel1945', 'pixel1946', 'pixel1947', 'pixel1948', 'pixel1949', 'pixel1950', 'pixel1951', 'pixel1952', 'pixel1953', 'pixel1954', 'pixel1955', 'pixel1956', 'pixel1957', 'pixel1958', 'pixel1959', 'pixel1960', 'pixel1961', 'pixel1962', 'pixel1963', 'pixel1964', 'pixel1965', 'pixel1966', 'pixel1967', 'pixel1968', 'pixel1969', 'pixel1970', 'pixel1971', 'pixel1972', 'pixel1973', 'pixel1974', 'pixel1975', 'pixel1976', 'pixel1977', 'pixel1978', 'pixel1979', 'pixel1980', 'pixel1981', 'pixel1982', 'pixel1983', 'pixel1984', 'pixel1985', 'pixel1986', 'pixel1987', 'pixel1988', 'pixel1989', 'pixel1990', 'pixel1991', 'pixel1992', 'pixel1993', 'pixel1994', 'pixel1995', 'pixel1996', 'pixel1997', 'pixel1998', 'pixel1999', 'pixel2000', 'pixel2001', 'pixel2002', 'pixel2003', 'pixel2004', 'pixel2005', 'pixel2006', 'pixel2007', 'pixel2008', 'pixel2009', 'pixel2010', 'pixel2011', 'pixel2012', 'pixel2013', 'pixel2014', 'pixel2015', 'pixel2016', 'pixel2017', 'pixel2018', 'pixel2019', 'pixel2020', 'pixel2021', 'pixel2022', 'pixel2023', 'pixel2024', 'pixel2025', 'pixel2026', 'pixel2027', 'pixel2028', 'pixel2029', 'pixel2030', 'pixel2031', 'pixel2032', 'pixel2033', 'pixel2034', 'pixel2035', 'pixel2036', 'pixel2037', 'pixel2038', 'pixel2039', 'pixel2040', 'pixel2041', 'pixel2042', 'pixel2043', 'pixel2044', 'pixel2045', 'pixel2046', 'pixel2047', 'pixel2048', 'pixel2049', 'pixel2050', 'pixel2051', 'pixel2052', 'pixel2053', 'pixel2054', 'pixel2055', 'pixel2056', 'pixel2057', 'pixel2058', 'pixel2059', 'pixel2060', 'pixel2061', 'pixel2062', 'pixel2063', 'pixel2064', 'pixel2065', 'pixel2066', 'pixel2067', 'pixel2068', 'pixel2069', 'pixel2070', 'pixel2071', 'pixel2072', 'pixel2073', 'pixel2074', 'pixel2075', 'pixel2076', 'pixel2077', 'pixel2078', 'pixel2079', 'pixel2080', 'pixel2081', 'pixel2082', 'pixel2083', 'pixel2084', 'pixel2085', 'pixel2086', 'pixel2087', 'pixel2088', 'pixel2089', 'pixel2090', 'pixel2091', 'pixel2092', 'pixel2093', 'pixel2094', 'pixel2095', 'pixel2096', 'pixel2097', 'pixel2098', 'pixel2099', 'pixel2100', 'pixel2101', 'pixel2102', 'pixel2103', 'pixel2104', 'pixel2105', 'pixel2106', 'pixel2107', 'pixel2108', 'pixel2109', 'pixel2110', 'pixel2111', 'pixel2112', 'pixel2113', 'pixel2114', 'pixel2115', 'pixel2116', 'pixel2117', 'pixel2118', 'pixel2119', 'pixel2120', 'pixel2121', 'pixel2122', 'pixel2123', 'pixel2124', 'pixel2125', 'pixel2126', 'pixel2127', 'pixel2128', 'pixel2129', 'pixel2130', 'pixel2131', 'pixel2132', 'pixel2133', 'pixel2134', 'pixel2135', 'pixel2136', 'pixel2137', 'pixel2138', 'pixel2139', 'pixel2140', 'pixel2141', 'pixel2142', 'pixel2143', 'pixel2144', 'pixel2145', 'pixel2146', 'pixel2147', 'pixel2148', 'pixel2149', 'pixel2150', 'pixel2151', 'pixel2152', 'pixel2153', 'pixel2154', 'pixel2155', 'pixel2156', 'pixel2157', 'pixel2158', 'pixel2159', 'pixel2160', 'pixel2161', 'pixel2162', 'pixel2163', 'pixel2164', 'pixel2165', 'pixel2166', 'pixel2167', 'pixel2168', 'pixel2169', 'pixel2170', 'pixel2171', 'pixel2172', 'pixel2173', 'pixel2174', 'pixel2175', 'pixel2176', 'pixel2177', 'pixel2178', 'pixel2179', 'pixel2180', 'pixel2181', 'pixel2182', 'pixel2183', 'pixel2184', 'pixel2185', 'pixel2186', 'pixel2187', 'pixel2188', 'pixel2189', 'pixel2190', 'pixel2191', 'pixel2192', 'pixel2193', 'pixel2194', 'pixel2195', 'pixel2196', 'pixel2197', 'pixel2198', 'pixel2199', 'pixel2200', 'pixel2201', 'pixel2202', 'pixel2203', 'pixel2204', 'pixel2205', 'pixel2206', 'pixel2207', 'pixel2208', 'pixel2209', 'pixel2210', 'pixel2211', 'pixel2212', 'pixel2213', 'pixel2214', 'pixel2215', 'pixel2216', 'pixel2217', 'pixel2218', 'pixel2219', 'pixel2220', 'pixel2221', 'pixel2222', 'pixel2223', 'pixel2224', 'pixel2225', 'pixel2226', 'pixel2227', 'pixel2228', 'pixel2229', 'pixel2230', 'pixel2231', 'pixel2232', 'pixel2233', 'pixel2234', 'pixel2235', 'pixel2236', 'pixel2237', 'pixel2238', 'pixel2239', 'pixel2240', 'pixel2241', 'pixel2242', 'pixel2243', 'pixel2244', 'pixel2245', 'pixel2246', 'pixel2247', 'pixel2248', 'pixel2249', 'pixel2250', 'pixel2251', 'pixel2252', 'pixel2253', 'pixel2254', 'pixel2255', 'pixel2256', 'pixel2257', 'pixel2258', 'pixel2259', 'pixel2260', 'pixel2261', 'pixel2262', 'pixel2263', 'pixel2264', 'pixel2265', 'pixel2266', 'pixel2267', 'pixel2268', 'pixel2269', 'pixel2270', 'pixel2271', 'pixel2272', 'pixel2273', 'pixel2274', 'pixel2275', 'pixel2276', 'pixel2277', 'pixel2278', 'pixel2279', 'pixel2280', 'pixel2281', 'pixel2282', 'pixel2283', 'pixel2284', 'pixel2285', 'pixel2286', 'pixel2287', 'pixel2288', 'pixel2289', 'pixel2290', 'pixel2291', 'pixel2292', 'pixel2293', 'pixel2294', 'pixel2295', 'pixel2296', 'pixel2297', 'pixel2298', 'pixel2299', 'pixel2300', 'pixel2301', 'pixel2302', 'pixel2303', 'pixel2304', 'pixel2305', 'pixel2306', 'pixel2307', 'pixel2308', 'pixel2309', 'pixel2310', 'pixel2311', 'pixel2312', 'pixel2313', 'pixel2314', 'pixel2315', 'pixel2316', 'pixel2317', 'pixel2318', 'pixel2319', 'pixel2320', 'pixel2321', 'pixel2322', 'pixel2323', 'pixel2324', 'pixel2325', 'pixel2326', 'pixel2327', 'pixel2328', 'pixel2329', 'pixel2330', 'pixel2331', 'pixel2332', 'pixel2333', 'pixel2334', 'pixel2335', 'pixel2336', 'pixel2337', 'pixel2338', 'pixel2339', 'pixel2340', 'pixel2341', 'pixel2342', 'pixel2343', 'pixel2344', 'pixel2345', 'pixel2346', 'pixel2347', 'pixel2348', 'pixel2349', 'pixel2350', 'pixel2351']\n"
          ]
        }
      ]
    },
    {
      "cell_type": "code",
      "source": [
        "#device details\n",
        "system = torch.device(\"cuda:0\" if torch.cuda.is_available() else \"cpu\")\n",
        "\n",
        "print(system)"
      ],
      "metadata": {
        "colab": {
          "base_uri": "https://localhost:8080/"
        },
        "id": "Q-4QYFfHMpf9",
        "outputId": "6f85d075-8108-4566-c6eb-84b069fc14ab"
      },
      "execution_count": 19,
      "outputs": [
        {
          "output_type": "stream",
          "name": "stdout",
          "text": [
            "cpu\n"
          ]
        }
      ]
    },
    {
      "cell_type": "code",
      "source": [
        "#males effected the most\n",
        "df['sex'].value_counts()"
      ],
      "metadata": {
        "colab": {
          "base_uri": "https://localhost:8080/"
        },
        "id": "mZs7pbkGMuMv",
        "outputId": "344310ea-b207-4b2f-bdb2-614e41807e67"
      },
      "execution_count": 20,
      "outputs": [
        {
          "output_type": "execute_result",
          "data": {
            "text/plain": [
              "male       5406\n",
              "female     4552\n",
              "unknown      57\n",
              "Name: sex, dtype: int64"
            ]
          },
          "metadata": {},
          "execution_count": 20
        }
      ]
    },
    {
      "cell_type": "code",
      "source": [
        "sns.set_style('whitegrid')\n",
        "ax = sns.countplot(x='dx', hue='sex', data = df)"
      ],
      "metadata": {
        "colab": {
          "base_uri": "https://localhost:8080/",
          "height": 449
        },
        "id": "TupWJpXSMuZB",
        "outputId": "e77ab484-a73d-4c3a-a373-9e62d8b603e4"
      },
      "execution_count": 21,
      "outputs": [
        {
          "output_type": "display_data",
          "data": {
            "text/plain": [
              "<Figure size 640x480 with 1 Axes>"
            ],
            "image/png": "[encoded data removed]"
          },
          "metadata": {}
        }
      ]
    },
    {
      "cell_type": "code",
      "source": [
        "#localization plot analysis\n",
        "sns.set_style('whitegrid')\n",
        "\n",
        "ax = sns.countplot(x='localization', data=df, order=df['localization'].value_counts().index, palette='crest')"
      ],
      "metadata": {
        "colab": {
          "base_uri": "https://localhost:8080/",
          "height": 449
        },
        "id": "uSbCtBkHMumO",
        "outputId": "54072074-8e81-41c3-c842-dd1bfc482779"
      },
      "execution_count": 22,
      "outputs": [
        {
          "output_type": "display_data",
          "data": {
            "text/plain": [
              "<Figure size 640x480 with 1 Axes>"
            ],
            "image/png": "[encoded data removed]"
          },
          "metadata": {}
        }
      ]
    },
    {
      "cell_type": "code",
      "source": [
        "#age based analysis\n",
        "sns.set_style('whitegrid')\n",
        "ax = sns.countplot(x = 'age', data = df)"
      ],
      "metadata": {
        "colab": {
          "base_uri": "https://localhost:8080/",
          "height": 449
        },
        "id": "Q5-j6goEM2rx",
        "outputId": "9528ab46-7ffc-4e1e-9a98-dc99156f7b12"
      },
      "execution_count": 23,
      "outputs": [
        {
          "output_type": "display_data",
          "data": {
            "text/plain": [
              "<Figure size 640x480 with 1 Axes>"
            ],
            "image/png": "[encoded data removed]"
          },
          "metadata": {}
        }
      ]
    },
    {
      "cell_type": "code",
      "source": [
        "#cancer type affect on patients\n",
        "sns.set_style('whitegrid')\n",
        "ax = sns.countplot(x='dx',data=df)"
      ],
      "metadata": {
        "colab": {
          "base_uri": "https://localhost:8080/",
          "height": 453
        },
        "id": "MQaeZLz5M6VY",
        "outputId": "f7381994-90a9-49fd-b915-f2207b8009d3"
      },
      "execution_count": 24,
      "outputs": [
        {
          "output_type": "display_data",
          "data": {
            "text/plain": [
              "<Figure size 640x480 with 1 Axes>"
            ],
            "image/png": "[encoded data removed]"
          },
          "metadata": {}
        }
      ]
    },
    {
      "cell_type": "code",
      "source": [
        "#balancing the data and preprocessing\n",
        "from imblearn.over_sampling import RandomOverSampler\n",
        "\n",
        "oversample = RandomOverSampler()\n",
        "\n",
        "x_train,y_train  = oversample.fit_resample(x_train,y_train)"
      ],
      "metadata": {
        "id": "d0MfQhjgM9Xu"
      },
      "execution_count": 25,
      "outputs": []
    },
    {
      "cell_type": "code",
      "source": [
        "x_train.shape"
      ],
      "metadata": {
        "colab": {
          "base_uri": "https://localhost:8080/"
        },
        "id": "J9UKiJvpXciH",
        "outputId": "d02b9614-28e7-443e-b3c2-b36a39a56c1a"
      },
      "execution_count": 47,
      "outputs": [
        {
          "output_type": "execute_result",
          "data": {
            "text/plain": [
              "(37373, 28, 28, 3)"
            ]
          },
          "metadata": {},
          "execution_count": 47
        }
      ]
    },
    {
      "cell_type": "code",
      "source": [
        "sns.countplot(x=y_train)"
      ],
      "metadata": {
        "colab": {
          "base_uri": "https://localhost:8080/",
          "height": 467
        },
        "id": "bFuF78cAM_w-",
        "outputId": "cdc7335b-c189-43ba-ceaa-caed1ce6b37c"
      },
      "execution_count": 26,
      "outputs": [
        {
          "output_type": "execute_result",
          "data": {
            "text/plain": [
              "<Axes: xlabel='label', ylabel='count'>"
            ]
          },
          "metadata": {},
          "execution_count": 26
        },
        {
          "output_type": "display_data",
          "data": {
            "text/plain": [
              "<Figure size 640x480 with 1 Axes>"
            ],
            "image/png": "[encoded data removed]"
          },
          "metadata": {}
        }
      ]
    },
    {
      "cell_type": "code",
      "source": [
        "import matplotlib.pyplot as plt\n",
        "import random\n",
        "\n",
        "num=random.randint(0,8000)\n",
        "x_train=np.array(x_train, dtype=np.uint8).reshape(-1,28,28,3)\n",
        "\n",
        "plt.imshow(x_train[num].reshape(28,28,3))\n",
        "plt.title(\"Random image from the training data\")\n",
        "plt.show()\n",
        "num=random.randint(0,8000)\n",
        "plt.imshow(x_train[num].reshape(28,28,3))\n",
        "plt.title(\"Random image from the training data\")\n",
        "plt.show()\n",
        "\n",
        "num=random.randint(0,8000)\n",
        "plt.imshow(x_train[num].reshape(28,28,3))\n",
        "plt.title(\"Random image from the training data\")\n",
        "plt.show()"
      ],
      "metadata": {
        "colab": {
          "base_uri": "https://localhost:8080/",
          "height": 1000
        },
        "id": "IS9SyeQfNjBV",
        "outputId": "68e26b7a-5377-45e7-dd3c-afbbc502433c"
      },
      "execution_count": 27,
      "outputs": [
        {
          "output_type": "display_data",
          "data": {
            "text/plain": [
              "<Figure size 640x480 with 1 Axes>"
            ],
            "image/png": "[encoded data removed]"
          },
          "metadata": {}
        },
        {
          "output_type": "display_data",
          "data": {
            "text/plain": [
              "<Figure size 640x480 with 1 Axes>"
            ],
            "image/png": "[encoded data removed]"
          },
          "metadata": {}
        },
        {
          "output_type": "display_data",
          "data": {
            "text/plain": [
              "<Figure size 640x480 with 1 Axes>"
            ],
            "image/png": "[encoded data removed]"
          },
          "metadata": {}
        }
      ]
    },
    {
      "cell_type": "code",
      "source": [
        "from sklearn.model_selection import train_test_split\n",
        "x_train, x_test, y_train, y_test = train_test_split(x_train,y_train, test_size=0.2)\n"
      ],
      "metadata": {
        "id": "IxzY1NBZYE5T"
      },
      "execution_count": 48,
      "outputs": []
    },
    {
      "cell_type": "code",
      "source": [
        "# creating CNN model\n",
        "from keras.models import Sequential\n",
        "from keras.layers import Conv2D, MaxPooling2D\n",
        "from keras.layers import Activation, Dropout, Flatten, Dense\n",
        "import tensorflow as tf"
      ],
      "metadata": {
        "id": "aJpSdZSkNpr_"
      },
      "execution_count": 49,
      "outputs": []
    },
    {
      "cell_type": "code",
      "source": [
        "model = Sequential()\n",
        "model.add(Conv2D(32, (2, 2), input_shape=(28,28,3)))\n",
        "model.add(Activation('swish'))\n",
        "model.add(MaxPooling2D(pool_size=(2, 2)))\n",
        "\n",
        "model.add(Conv2D(32, (2, 2)))\n",
        "model.add(Activation('swish'))\n",
        "model.add(MaxPooling2D(pool_size=(2, 2)))\n",
        "\n",
        "model.add(Conv2D(64, (2, 2)))\n",
        "model.add(Activation('swish'))\n",
        "model.add(MaxPooling2D(pool_size=(2, 2)))\n",
        "\n",
        "model.add(Flatten())\n",
        "model.add(Dense(64))\n",
        "model.add(Activation('swish'))\n",
        "model.add(Dropout(0.5))\n",
        "model.add(Dense(7))\n",
        "model.add(Activation('softmax'))\n",
        "model.summary()"
      ],
      "metadata": {
        "colab": {
          "base_uri": "https://localhost:8080/"
        },
        "id": "iuaoDUskNy9K",
        "outputId": "8bb0340a-54e2-4a5a-d808-e056b3629632"
      },
      "execution_count": 50,
      "outputs": [
        {
          "output_type": "stream",
          "name": "stdout",
          "text": [
            "Model: \"sequential_4\"\n",
            "_________________________________________________________________\n",
            " Layer (type)                Output Shape              Param #   \n",
            "=================================================================\n",
            " conv2d_5 (Conv2D)           (None, 27, 27, 32)        416       \n",
            "                                                                 \n",
            " activation_6 (Activation)   (None, 27, 27, 32)        0         \n",
            "                                                                 \n",
            " max_pooling2d_3 (MaxPooling  (None, 13, 13, 32)       0         \n",
            " 2D)                                                             \n",
            "                                                                 \n",
            " conv2d_6 (Conv2D)           (None, 12, 12, 32)        4128      \n",
            "                                                                 \n",
            " activation_7 (Activation)   (None, 12, 12, 32)        0         \n",
            "                                                                 \n",
            " max_pooling2d_4 (MaxPooling  (None, 6, 6, 32)         0         \n",
            " 2D)                                                             \n",
            "                                                                 \n",
            " conv2d_7 (Conv2D)           (None, 5, 5, 64)          8256      \n",
            "                                                                 \n",
            " activation_8 (Activation)   (None, 5, 5, 64)          0         \n",
            "                                                                 \n",
            " max_pooling2d_5 (MaxPooling  (None, 2, 2, 64)         0         \n",
            " 2D)                                                             \n",
            "                                                                 \n",
            " flatten_1 (Flatten)         (None, 256)               0         \n",
            "                                                                 \n",
            " dense_2 (Dense)             (None, 64)                16448     \n",
            "                                                                 \n",
            " activation_9 (Activation)   (None, 64)                0         \n",
            "                                                                 \n",
            " dropout_1 (Dropout)         (None, 64)                0         \n",
            "                                                                 \n",
            " dense_3 (Dense)             (None, 7)                 455       \n",
            "                                                                 \n",
            " activation_10 (Activation)  (None, 7)                 0         \n",
            "                                                                 \n",
            "=================================================================\n",
            "Total params: 29,703\n",
            "Trainable params: 29,703\n",
            "Non-trainable params: 0\n",
            "_________________________________________________________________\n"
          ]
        }
      ]
    },
    {
      "cell_type": "code",
      "source": [
        "model.compile(loss='sparse_categorical_crossentropy',\n",
        "optimizer='nadam',\n",
        "metrics=['accuracy'])"
      ],
      "metadata": {
        "id": "1eRnPBj6PCZq"
      },
      "execution_count": 51,
      "outputs": []
    },
    {
      "cell_type": "code",
      "source": [
        "\n",
        "callback = tsf.keras.callbacks.ModelCheckpoint(filepath='skin_cancer.h5',\n",
        "                                              monitor='val_acc',\n",
        "                                              mode='max',\n",
        "                                              verbose=1,\n",
        "                                              save_best_only=True)\n",
        "\n",
        "early_stopping = tsf.keras.callbacks.EarlyStopping(patience=10, restore_best_weights=True)"
      ],
      "metadata": {
        "id": "pKRi2fWiPFBN"
      },
      "execution_count": 52,
      "outputs": []
    },
    {
      "cell_type": "code",
      "source": [
        "#fit the model\n",
        "from datetime import datetime\n",
        "\n",
        "start_time = datetime.now()\n",
        "\n",
        "history = model.fit(x_train,\n",
        "                    y_train,\n",
        "                    epochs = 100,\n",
        "                    validation_split =0.2,\n",
        "                    callbacks=[callback, early_stopping])\n",
        "\n",
        "end_time = datetime.now()\n",
        "\n",
        "print('Duration: {}'.format(end_time - start_time))"
      ],
      "metadata": {
        "colab": {
          "base_uri": "https://localhost:8080/"
        },
        "id": "IYcJQJWLPO6a",
        "outputId": "922b2bd8-bebb-41ac-bf52-0967c5880161"
      },
      "execution_count": 65,
      "outputs": [
        {
          "output_type": "stream",
          "name": "stdout",
          "text": [
            "Epoch 1/100\n",
            "747/748 [============================>.] - ETA: 0s - loss: 0.4199 - accuracy: 0.8553"
          ]
        },
        {
          "output_type": "stream",
          "name": "stderr",
          "text": [
            "WARNING:tensorflow:Can save best model only with val_acc available, skipping.\n"
          ]
        },
        {
          "output_type": "stream",
          "name": "stdout",
          "text": [
            "\b\b\b\b\b\b\b\b\b\b\b\b\b\b\b\b\b\b\b\b\b\b\b\b\b\b\b\b\b\b\b\b\b\b\b\b\b\b\b\b\b\b\b\b\b\b\b\b\b\b\b\b\b\b\b\b\b\b\b\b\b\b\b\b\b\b\b\b\b\b\b\b\b\b\b\b\b\b\b\b\b\b\b\b\r748/748 [==============================] - 18s 24ms/step - loss: 0.4198 - accuracy: 0.8553 - val_loss: 0.3144 - val_accuracy: 0.8948\n",
            "Epoch 2/100\n",
            "747/748 [============================>.] - ETA: 0s - loss: 0.3241 - accuracy: 0.8817"
          ]
        },
        {
          "output_type": "stream",
          "name": "stderr",
          "text": [
            "WARNING:tensorflow:Can save best model only with val_acc available, skipping.\n"
          ]
        },
        {
          "output_type": "stream",
          "name": "stdout",
          "text": [
            "\b\b\b\b\b\b\b\b\b\b\b\b\b\b\b\b\b\b\b\b\b\b\b\b\b\b\b\b\b\b\b\b\b\b\b\b\b\b\b\b\b\b\b\b\b\b\b\b\b\b\b\b\b\b\b\b\b\b\b\b\b\b\b\b\b\b\b\b\b\b\b\b\b\b\b\b\b\b\b\b\b\b\b\b\r748/748 [==============================] - 17s 23ms/step - loss: 0.3241 - accuracy: 0.8817 - val_loss: 0.3286 - val_accuracy: 0.8808\n",
            "Epoch 3/100\n",
            "747/748 [============================>.] - ETA: 0s - loss: 0.3549 - accuracy: 0.8735"
          ]
        },
        {
          "output_type": "stream",
          "name": "stderr",
          "text": [
            "WARNING:tensorflow:Can save best model only with val_acc available, skipping.\n"
          ]
        },
        {
          "output_type": "stream",
          "name": "stdout",
          "text": [
            "\b\b\b\b\b\b\b\b\b\b\b\b\b\b\b\b\b\b\b\b\b\b\b\b\b\b\b\b\b\b\b\b\b\b\b\b\b\b\b\b\b\b\b\b\b\b\b\b\b\b\b\b\b\b\b\b\b\b\b\b\b\b\b\b\b\b\b\b\b\b\b\b\b\b\b\b\b\b\b\b\b\b\b\b\r748/748 [==============================] - 19s 25ms/step - loss: 0.3547 - accuracy: 0.8736 - val_loss: 0.3057 - val_accuracy: 0.9003\n",
            "Epoch 4/100\n",
            "746/748 [============================>.] - ETA: 0s - loss: 0.3459 - accuracy: 0.8760"
          ]
        },
        {
          "output_type": "stream",
          "name": "stderr",
          "text": [
            "WARNING:tensorflow:Can save best model only with val_acc available, skipping.\n"
          ]
        },
        {
          "output_type": "stream",
          "name": "stdout",
          "text": [
            "\b\b\b\b\b\b\b\b\b\b\b\b\b\b\b\b\b\b\b\b\b\b\b\b\b\b\b\b\b\b\b\b\b\b\b\b\b\b\b\b\b\b\b\b\b\b\b\b\b\b\b\b\b\b\b\b\b\b\b\b\b\b\b\b\b\b\b\b\b\b\b\b\b\b\b\b\b\b\b\b\b\b\b\b\r748/748 [==============================] - 17s 23ms/step - loss: 0.3458 - accuracy: 0.8761 - val_loss: 0.2978 - val_accuracy: 0.8990\n",
            "Epoch 5/100\n",
            "747/748 [============================>.] - ETA: 0s - loss: 0.3404 - accuracy: 0.8781"
          ]
        },
        {
          "output_type": "stream",
          "name": "stderr",
          "text": [
            "WARNING:tensorflow:Can save best model only with val_acc available, skipping.\n"
          ]
        },
        {
          "output_type": "stream",
          "name": "stdout",
          "text": [
            "\b\b\b\b\b\b\b\b\b\b\b\b\b\b\b\b\b\b\b\b\b\b\b\b\b\b\b\b\b\b\b\b\b\b\b\b\b\b\b\b\b\b\b\b\b\b\b\b\b\b\b\b\b\b\b\b\b\b\b\b\b\b\b\b\b\b\b\b\b\b\b\b\b\b\b\b\b\b\b\b\b\b\b\b\r748/748 [==============================] - 17s 23ms/step - loss: 0.3406 - accuracy: 0.8780 - val_loss: 0.3302 - val_accuracy: 0.8945\n",
            "Epoch 6/100\n",
            "746/748 [============================>.] - ETA: 0s - loss: 0.3447 - accuracy: 0.8790"
          ]
        },
        {
          "output_type": "stream",
          "name": "stderr",
          "text": [
            "WARNING:tensorflow:Can save best model only with val_acc available, skipping.\n"
          ]
        },
        {
          "output_type": "stream",
          "name": "stdout",
          "text": [
            "\b\b\b\b\b\b\b\b\b\b\b\b\b\b\b\b\b\b\b\b\b\b\b\b\b\b\b\b\b\b\b\b\b\b\b\b\b\b\b\b\b\b\b\b\b\b\b\b\b\b\b\b\b\b\b\b\b\b\b\b\b\b\b\b\b\b\b\b\b\b\b\b\b\b\b\b\b\b\b\b\b\b\b\b\r748/748 [==============================] - 17s 23ms/step - loss: 0.3447 - accuracy: 0.8790 - val_loss: 0.3153 - val_accuracy: 0.8898\n",
            "Epoch 7/100\n",
            "748/748 [==============================] - ETA: 0s - loss: 0.3537 - accuracy: 0.8751"
          ]
        },
        {
          "output_type": "stream",
          "name": "stderr",
          "text": [
            "WARNING:tensorflow:Can save best model only with val_acc available, skipping.\n"
          ]
        },
        {
          "output_type": "stream",
          "name": "stdout",
          "text": [
            "\b\b\b\b\b\b\b\b\b\b\b\b\b\b\b\b\b\b\b\b\b\b\b\b\b\b\b\b\b\b\b\b\b\b\b\b\b\b\b\b\b\b\b\b\b\b\b\b\b\b\b\b\b\b\b\b\b\b\b\b\b\b\b\b\b\b\b\b\b\b\b\b\b\b\b\b\b\b\b\b\b\b\b\b\r748/748 [==============================] - 18s 24ms/step - loss: 0.3537 - accuracy: 0.8751 - val_loss: 0.2926 - val_accuracy: 0.8972\n",
            "Epoch 8/100\n",
            "746/748 [============================>.] - ETA: 0s - loss: 0.3171 - accuracy: 0.8879"
          ]
        },
        {
          "output_type": "stream",
          "name": "stderr",
          "text": [
            "WARNING:tensorflow:Can save best model only with val_acc available, skipping.\n"
          ]
        },
        {
          "output_type": "stream",
          "name": "stdout",
          "text": [
            "\b\b\b\b\b\b\b\b\b\b\b\b\b\b\b\b\b\b\b\b\b\b\b\b\b\b\b\b\b\b\b\b\b\b\b\b\b\b\b\b\b\b\b\b\b\b\b\b\b\b\b\b\b\b\b\b\b\b\b\b\b\b\b\b\b\b\b\b\b\b\b\b\b\b\b\b\b\b\b\b\b\b\b\b\r748/748 [==============================] - 17s 23ms/step - loss: 0.3171 - accuracy: 0.8879 - val_loss: 0.3500 - val_accuracy: 0.8813\n",
            "Epoch 9/100\n",
            "747/748 [============================>.] - ETA: 0s - loss: 0.3824 - accuracy: 0.8696"
          ]
        },
        {
          "output_type": "stream",
          "name": "stderr",
          "text": [
            "WARNING:tensorflow:Can save best model only with val_acc available, skipping.\n"
          ]
        },
        {
          "output_type": "stream",
          "name": "stdout",
          "text": [
            "\b\b\b\b\b\b\b\b\b\b\b\b\b\b\b\b\b\b\b\b\b\b\b\b\b\b\b\b\b\b\b\b\b\b\b\b\b\b\b\b\b\b\b\b\b\b\b\b\b\b\b\b\b\b\b\b\b\b\b\b\b\b\b\b\b\b\b\b\b\b\b\b\b\b\b\b\b\b\b\b\b\b\b\b\r748/748 [==============================] - 18s 24ms/step - loss: 0.3827 - accuracy: 0.8695 - val_loss: 0.4145 - val_accuracy: 0.8610\n",
            "Epoch 10/100\n",
            "748/748 [==============================] - ETA: 0s - loss: 0.3282 - accuracy: 0.8838"
          ]
        },
        {
          "output_type": "stream",
          "name": "stderr",
          "text": [
            "WARNING:tensorflow:Can save best model only with val_acc available, skipping.\n"
          ]
        },
        {
          "output_type": "stream",
          "name": "stdout",
          "text": [
            "\b\b\b\b\b\b\b\b\b\b\b\b\b\b\b\b\b\b\b\b\b\b\b\b\b\b\b\b\b\b\b\b\b\b\b\b\b\b\b\b\b\b\b\b\b\b\b\b\b\b\b\b\b\b\b\b\b\b\b\b\b\b\b\b\b\b\b\b\b\b\b\b\b\b\b\b\b\b\b\b\b\b\b\b\r748/748 [==============================] - 17s 23ms/step - loss: 0.3282 - accuracy: 0.8838 - val_loss: 0.3105 - val_accuracy: 0.8968\n",
            "Epoch 11/100\n",
            "747/748 [============================>.] - ETA: 0s - loss: 0.3217 - accuracy: 0.8852"
          ]
        },
        {
          "output_type": "stream",
          "name": "stderr",
          "text": [
            "WARNING:tensorflow:Can save best model only with val_acc available, skipping.\n"
          ]
        },
        {
          "output_type": "stream",
          "name": "stdout",
          "text": [
            "\b\b\b\b\b\b\b\b\b\b\b\b\b\b\b\b\b\b\b\b\b\b\b\b\b\b\b\b\b\b\b\b\b\b\b\b\b\b\b\b\b\b\b\b\b\b\b\b\b\b\b\b\b\b\b\b\b\b\b\b\b\b\b\b\b\b\b\b\b\b\b\b\b\b\b\b\b\b\b\b\b\b\b\b\r748/748 [==============================] - 18s 24ms/step - loss: 0.3216 - accuracy: 0.8852 - val_loss: 0.2820 - val_accuracy: 0.9059\n",
            "Epoch 12/100\n",
            "746/748 [============================>.] - ETA: 0s - loss: 0.3592 - accuracy: 0.8764"
          ]
        },
        {
          "output_type": "stream",
          "name": "stderr",
          "text": [
            "WARNING:tensorflow:Can save best model only with val_acc available, skipping.\n"
          ]
        },
        {
          "output_type": "stream",
          "name": "stdout",
          "text": [
            "\b\b\b\b\b\b\b\b\b\b\b\b\b\b\b\b\b\b\b\b\b\b\b\b\b\b\b\b\b\b\b\b\b\b\b\b\b\b\b\b\b\b\b\b\b\b\b\b\b\b\b\b\b\b\b\b\b\b\b\b\b\b\b\b\b\b\b\b\b\b\b\b\b\b\b\b\b\b\b\b\b\b\b\b\r748/748 [==============================] - 18s 24ms/step - loss: 0.3595 - accuracy: 0.8762 - val_loss: 0.3489 - val_accuracy: 0.8779\n",
            "Epoch 13/100\n",
            "746/748 [============================>.] - ETA: 0s - loss: 0.3402 - accuracy: 0.8802"
          ]
        },
        {
          "output_type": "stream",
          "name": "stderr",
          "text": [
            "WARNING:tensorflow:Can save best model only with val_acc available, skipping.\n"
          ]
        },
        {
          "output_type": "stream",
          "name": "stdout",
          "text": [
            "\b\b\b\b\b\b\b\b\b\b\b\b\b\b\b\b\b\b\b\b\b\b\b\b\b\b\b\b\b\b\b\b\b\b\b\b\b\b\b\b\b\b\b\b\b\b\b\b\b\b\b\b\b\b\b\b\b\b\b\b\b\b\b\b\b\b\b\b\b\b\b\b\b\b\b\b\b\b\b\b\b\b\b\b\r748/748 [==============================] - 18s 24ms/step - loss: 0.3400 - accuracy: 0.8803 - val_loss: 0.2954 - val_accuracy: 0.8987\n",
            "Epoch 14/100\n",
            "746/748 [============================>.] - ETA: 0s - loss: 0.3512 - accuracy: 0.8770"
          ]
        },
        {
          "output_type": "stream",
          "name": "stderr",
          "text": [
            "WARNING:tensorflow:Can save best model only with val_acc available, skipping.\n"
          ]
        },
        {
          "output_type": "stream",
          "name": "stdout",
          "text": [
            "\b\b\b\b\b\b\b\b\b\b\b\b\b\b\b\b\b\b\b\b\b\b\b\b\b\b\b\b\b\b\b\b\b\b\b\b\b\b\b\b\b\b\b\b\b\b\b\b\b\b\b\b\b\b\b\b\b\b\b\b\b\b\b\b\b\b\b\b\b\b\b\b\b\b\b\b\b\b\b\b\b\b\b\b\r748/748 [==============================] - 18s 24ms/step - loss: 0.3512 - accuracy: 0.8770 - val_loss: 0.3048 - val_accuracy: 0.8963\n",
            "Epoch 15/100\n",
            "746/748 [============================>.] - ETA: 0s - loss: 0.3220 - accuracy: 0.8891"
          ]
        },
        {
          "output_type": "stream",
          "name": "stderr",
          "text": [
            "WARNING:tensorflow:Can save best model only with val_acc available, skipping.\n"
          ]
        },
        {
          "output_type": "stream",
          "name": "stdout",
          "text": [
            "\b\b\b\b\b\b\b\b\b\b\b\b\b\b\b\b\b\b\b\b\b\b\b\b\b\b\b\b\b\b\b\b\b\b\b\b\b\b\b\b\b\b\b\b\b\b\b\b\b\b\b\b\b\b\b\b\b\b\b\b\b\b\b\b\b\b\b\b\b\b\b\b\b\b\b\b\b\b\b\b\b\b\b\b\r748/748 [==============================] - 18s 23ms/step - loss: 0.3219 - accuracy: 0.8892 - val_loss: 0.2805 - val_accuracy: 0.9075\n",
            "Epoch 16/100\n",
            "747/748 [============================>.] - ETA: 0s - loss: 0.3022 - accuracy: 0.8960"
          ]
        },
        {
          "output_type": "stream",
          "name": "stderr",
          "text": [
            "WARNING:tensorflow:Can save best model only with val_acc available, skipping.\n"
          ]
        },
        {
          "output_type": "stream",
          "name": "stdout",
          "text": [
            "\b\b\b\b\b\b\b\b\b\b\b\b\b\b\b\b\b\b\b\b\b\b\b\b\b\b\b\b\b\b\b\b\b\b\b\b\b\b\b\b\b\b\b\b\b\b\b\b\b\b\b\b\b\b\b\b\b\b\b\b\b\b\b\b\b\b\b\b\b\b\b\b\b\b\b\b\b\b\b\b\b\b\b\b\r748/748 [==============================] - 17s 23ms/step - loss: 0.3023 - accuracy: 0.8960 - val_loss: 0.3194 - val_accuracy: 0.8978\n",
            "Epoch 17/100\n",
            "747/748 [============================>.] - ETA: 0s - loss: 0.3100 - accuracy: 0.8934"
          ]
        },
        {
          "output_type": "stream",
          "name": "stderr",
          "text": [
            "WARNING:tensorflow:Can save best model only with val_acc available, skipping.\n"
          ]
        },
        {
          "output_type": "stream",
          "name": "stdout",
          "text": [
            "\b\b\b\b\b\b\b\b\b\b\b\b\b\b\b\b\b\b\b\b\b\b\b\b\b\b\b\b\b\b\b\b\b\b\b\b\b\b\b\b\b\b\b\b\b\b\b\b\b\b\b\b\b\b\b\b\b\b\b\b\b\b\b\b\b\b\b\b\b\b\b\b\b\b\b\b\b\b\b\b\b\b\b\b\r748/748 [==============================] - 18s 24ms/step - loss: 0.3098 - accuracy: 0.8934 - val_loss: 0.2946 - val_accuracy: 0.9012\n",
            "Epoch 18/100\n",
            "747/748 [============================>.] - ETA: 0s - loss: 0.3379 - accuracy: 0.8829"
          ]
        },
        {
          "output_type": "stream",
          "name": "stderr",
          "text": [
            "WARNING:tensorflow:Can save best model only with val_acc available, skipping.\n"
          ]
        },
        {
          "output_type": "stream",
          "name": "stdout",
          "text": [
            "\b\b\b\b\b\b\b\b\b\b\b\b\b\b\b\b\b\b\b\b\b\b\b\b\b\b\b\b\b\b\b\b\b\b\b\b\b\b\b\b\b\b\b\b\b\b\b\b\b\b\b\b\b\b\b\b\b\b\b\b\b\b\b\b\b\b\b\b\b\b\b\b\b\b\b\b\b\b\b\b\b\b\b\b\r748/748 [==============================] - 17s 22ms/step - loss: 0.3378 - accuracy: 0.8830 - val_loss: 0.2672 - val_accuracy: 0.9115\n",
            "Epoch 19/100\n",
            "748/748 [==============================] - ETA: 0s - loss: 0.3281 - accuracy: 0.8860"
          ]
        },
        {
          "output_type": "stream",
          "name": "stderr",
          "text": [
            "WARNING:tensorflow:Can save best model only with val_acc available, skipping.\n"
          ]
        },
        {
          "output_type": "stream",
          "name": "stdout",
          "text": [
            "\b\b\b\b\b\b\b\b\b\b\b\b\b\b\b\b\b\b\b\b\b\b\b\b\b\b\b\b\b\b\b\b\b\b\b\b\b\b\b\b\b\b\b\b\b\b\b\b\b\b\b\b\b\b\b\b\b\b\b\b\b\b\b\b\b\b\b\b\b\b\b\b\b\b\b\b\b\b\b\b\b\b\b\b\r748/748 [==============================] - 18s 24ms/step - loss: 0.3281 - accuracy: 0.8860 - val_loss: 0.2628 - val_accuracy: 0.9197\n",
            "Epoch 20/100\n",
            "746/748 [============================>.] - ETA: 0s - loss: 0.3349 - accuracy: 0.8841"
          ]
        },
        {
          "output_type": "stream",
          "name": "stderr",
          "text": [
            "WARNING:tensorflow:Can save best model only with val_acc available, skipping.\n"
          ]
        },
        {
          "output_type": "stream",
          "name": "stdout",
          "text": [
            "\b\b\b\b\b\b\b\b\b\b\b\b\b\b\b\b\b\b\b\b\b\b\b\b\b\b\b\b\b\b\b\b\b\b\b\b\b\b\b\b\b\b\b\b\b\b\b\b\b\b\b\b\b\b\b\b\b\b\b\b\b\b\b\b\b\b\b\b\b\b\b\b\b\b\b\b\b\b\b\b\b\b\b\b\r748/748 [==============================] - 17s 22ms/step - loss: 0.3348 - accuracy: 0.8841 - val_loss: 0.2648 - val_accuracy: 0.9144\n",
            "Epoch 21/100\n",
            "748/748 [==============================] - ETA: 0s - loss: 0.3221 - accuracy: 0.8882"
          ]
        },
        {
          "output_type": "stream",
          "name": "stderr",
          "text": [
            "WARNING:tensorflow:Can save best model only with val_acc available, skipping.\n"
          ]
        },
        {
          "output_type": "stream",
          "name": "stdout",
          "text": [
            "\b\b\b\b\b\b\b\b\b\b\b\b\b\b\b\b\b\b\b\b\b\b\b\b\b\b\b\b\b\b\b\b\b\b\b\b\b\b\b\b\b\b\b\b\b\b\b\b\b\b\b\b\b\b\b\b\b\b\b\b\b\b\b\b\b\b\b\b\b\b\b\b\b\b\b\b\b\b\b\b\b\b\b\b\r748/748 [==============================] - 18s 24ms/step - loss: 0.3221 - accuracy: 0.8882 - val_loss: 0.2813 - val_accuracy: 0.9107\n",
            "Epoch 22/100\n",
            "747/748 [============================>.] - ETA: 0s - loss: 0.2946 - accuracy: 0.8963"
          ]
        },
        {
          "output_type": "stream",
          "name": "stderr",
          "text": [
            "WARNING:tensorflow:Can save best model only with val_acc available, skipping.\n"
          ]
        },
        {
          "output_type": "stream",
          "name": "stdout",
          "text": [
            "\b\b\b\b\b\b\b\b\b\b\b\b\b\b\b\b\b\b\b\b\b\b\b\b\b\b\b\b\b\b\b\b\b\b\b\b\b\b\b\b\b\b\b\b\b\b\b\b\b\b\b\b\b\b\b\b\b\b\b\b\b\b\b\b\b\b\b\b\b\b\b\b\b\b\b\b\b\b\b\b\b\b\b\b\r748/748 [==============================] - 17s 23ms/step - loss: 0.2945 - accuracy: 0.8963 - val_loss: 0.3185 - val_accuracy: 0.8891\n",
            "Epoch 23/100\n",
            "747/748 [============================>.] - ETA: 0s - loss: 0.3185 - accuracy: 0.8893"
          ]
        },
        {
          "output_type": "stream",
          "name": "stderr",
          "text": [
            "WARNING:tensorflow:Can save best model only with val_acc available, skipping.\n"
          ]
        },
        {
          "output_type": "stream",
          "name": "stdout",
          "text": [
            "\b\b\b\b\b\b\b\b\b\b\b\b\b\b\b\b\b\b\b\b\b\b\b\b\b\b\b\b\b\b\b\b\b\b\b\b\b\b\b\b\b\b\b\b\b\b\b\b\b\b\b\b\b\b\b\b\b\b\b\b\b\b\b\b\b\b\b\b\b\b\b\b\b\b\b\b\b\b\b\b\b\b\b\b\r748/748 [==============================] - 18s 24ms/step - loss: 0.3184 - accuracy: 0.8894 - val_loss: 0.3462 - val_accuracy: 0.8828\n",
            "Epoch 24/100\n",
            "746/748 [============================>.] - ETA: 0s - loss: 0.3410 - accuracy: 0.8844"
          ]
        },
        {
          "output_type": "stream",
          "name": "stderr",
          "text": [
            "WARNING:tensorflow:Can save best model only with val_acc available, skipping.\n"
          ]
        },
        {
          "output_type": "stream",
          "name": "stdout",
          "text": [
            "\b\b\b\b\b\b\b\b\b\b\b\b\b\b\b\b\b\b\b\b\b\b\b\b\b\b\b\b\b\b\b\b\b\b\b\b\b\b\b\b\b\b\b\b\b\b\b\b\b\b\b\b\b\b\b\b\b\b\b\b\b\b\b\b\b\b\b\b\b\b\b\b\b\b\b\b\b\b\b\b\b\b\b\b\r748/748 [==============================] - 18s 24ms/step - loss: 0.3411 - accuracy: 0.8843 - val_loss: 0.3564 - val_accuracy: 0.8758\n",
            "Epoch 25/100\n",
            "747/748 [============================>.] - ETA: 0s - loss: 0.2890 - accuracy: 0.9009"
          ]
        },
        {
          "output_type": "stream",
          "name": "stderr",
          "text": [
            "WARNING:tensorflow:Can save best model only with val_acc available, skipping.\n"
          ]
        },
        {
          "output_type": "stream",
          "name": "stdout",
          "text": [
            "\b\b\b\b\b\b\b\b\b\b\b\b\b\b\b\b\b\b\b\b\b\b\b\b\b\b\b\b\b\b\b\b\b\b\b\b\b\b\b\b\b\b\b\b\b\b\b\b\b\b\b\b\b\b\b\b\b\b\b\b\b\b\b\b\b\b\b\b\b\b\b\b\b\b\b\b\b\b\b\b\b\b\b\b\r748/748 [==============================] - 17s 23ms/step - loss: 0.2890 - accuracy: 0.9009 - val_loss: 0.3089 - val_accuracy: 0.8962\n",
            "Epoch 26/100\n",
            "746/748 [============================>.] - ETA: 0s - loss: 0.3373 - accuracy: 0.8853"
          ]
        },
        {
          "output_type": "stream",
          "name": "stderr",
          "text": [
            "WARNING:tensorflow:Can save best model only with val_acc available, skipping.\n"
          ]
        },
        {
          "output_type": "stream",
          "name": "stdout",
          "text": [
            "\b\b\b\b\b\b\b\b\b\b\b\b\b\b\b\b\b\b\b\b\b\b\b\b\b\b\b\b\b\b\b\b\b\b\b\b\b\b\b\b\b\b\b\b\b\b\b\b\b\b\b\b\b\b\b\b\b\b\b\b\b\b\b\b\b\b\b\b\b\b\b\b\b\b\b\b\b\b\b\b\b\b\b\b\r748/748 [==============================] - 17s 22ms/step - loss: 0.3373 - accuracy: 0.8854 - val_loss: 0.3332 - val_accuracy: 0.8921\n",
            "Epoch 27/100\n",
            "746/748 [============================>.] - ETA: 0s - loss: 0.2953 - accuracy: 0.8985"
          ]
        },
        {
          "output_type": "stream",
          "name": "stderr",
          "text": [
            "WARNING:tensorflow:Can save best model only with val_acc available, skipping.\n"
          ]
        },
        {
          "output_type": "stream",
          "name": "stdout",
          "text": [
            "\b\b\b\b\b\b\b\b\b\b\b\b\b\b\b\b\b\b\b\b\b\b\b\b\b\b\b\b\b\b\b\b\b\b\b\b\b\b\b\b\b\b\b\b\b\b\b\b\b\b\b\b\b\b\b\b\b\b\b\b\b\b\b\b\b\b\b\b\b\b\b\b\b\b\b\b\b\b\b\b\b\b\b\b\r748/748 [==============================] - 17s 22ms/step - loss: 0.2954 - accuracy: 0.8984 - val_loss: 0.3000 - val_accuracy: 0.9038\n",
            "Epoch 28/100\n",
            "747/748 [============================>.] - ETA: 0s - loss: 0.3237 - accuracy: 0.8885"
          ]
        },
        {
          "output_type": "stream",
          "name": "stderr",
          "text": [
            "WARNING:tensorflow:Can save best model only with val_acc available, skipping.\n"
          ]
        },
        {
          "output_type": "stream",
          "name": "stdout",
          "text": [
            "\b\b\b\b\b\b\b\b\b\b\b\b\b\b\b\b\b\b\b\b\b\b\b\b\b\b\b\b\b\b\b\b\b\b\b\b\b\b\b\b\b\b\b\b\b\b\b\b\b\b\b\b\b\b\b\b\b\b\b\b\b\b\b\b\b\b\b\b\b\b\b\b\b\b\b\b\b\b\b\b\b\b\b\b\r748/748 [==============================] - 19s 25ms/step - loss: 0.3238 - accuracy: 0.8885 - val_loss: 0.2542 - val_accuracy: 0.9152\n",
            "Epoch 29/100\n",
            "746/748 [============================>.] - ETA: 0s - loss: 0.3151 - accuracy: 0.8923"
          ]
        },
        {
          "output_type": "stream",
          "name": "stderr",
          "text": [
            "WARNING:tensorflow:Can save best model only with val_acc available, skipping.\n"
          ]
        },
        {
          "output_type": "stream",
          "name": "stdout",
          "text": [
            "\b\b\b\b\b\b\b\b\b\b\b\b\b\b\b\b\b\b\b\b\b\b\b\b\b\b\b\b\b\b\b\b\b\b\b\b\b\b\b\b\b\b\b\b\b\b\b\b\b\b\b\b\b\b\b\b\b\b\b\b\b\b\b\b\b\b\b\b\b\b\b\b\b\b\b\b\b\b\b\b\b\b\b\b\r748/748 [==============================] - 17s 22ms/step - loss: 0.3147 - accuracy: 0.8925 - val_loss: 0.2521 - val_accuracy: 0.9236\n",
            "Epoch 30/100\n",
            "747/748 [============================>.] - ETA: 0s - loss: 0.2809 - accuracy: 0.9024"
          ]
        },
        {
          "output_type": "stream",
          "name": "stderr",
          "text": [
            "WARNING:tensorflow:Can save best model only with val_acc available, skipping.\n"
          ]
        },
        {
          "output_type": "stream",
          "name": "stdout",
          "text": [
            "\b\b\b\b\b\b\b\b\b\b\b\b\b\b\b\b\b\b\b\b\b\b\b\b\b\b\b\b\b\b\b\b\b\b\b\b\b\b\b\b\b\b\b\b\b\b\b\b\b\b\b\b\b\b\b\b\b\b\b\b\b\b\b\b\b\b\b\b\b\b\b\b\b\b\b\b\b\b\b\b\b\b\b\b\r748/748 [==============================] - 18s 24ms/step - loss: 0.2810 - accuracy: 0.9023 - val_loss: 0.3810 - val_accuracy: 0.8726\n",
            "Epoch 31/100\n",
            "748/748 [==============================] - ETA: 0s - loss: 0.3184 - accuracy: 0.8898"
          ]
        },
        {
          "output_type": "stream",
          "name": "stderr",
          "text": [
            "WARNING:tensorflow:Can save best model only with val_acc available, skipping.\n"
          ]
        },
        {
          "output_type": "stream",
          "name": "stdout",
          "text": [
            "\b\b\b\b\b\b\b\b\b\b\b\b\b\b\b\b\b\b\b\b\b\b\b\b\b\b\b\b\b\b\b\b\b\b\b\b\b\b\b\b\b\b\b\b\b\b\b\b\b\b\b\b\b\b\b\b\b\b\b\b\b\b\b\b\b\b\b\b\b\b\b\b\b\b\b\b\b\b\b\b\b\b\b\b\r748/748 [==============================] - 18s 24ms/step - loss: 0.3184 - accuracy: 0.8898 - val_loss: 0.4354 - val_accuracy: 0.8488\n",
            "Epoch 32/100\n",
            "745/748 [============================>.] - ETA: 0s - loss: 0.2958 - accuracy: 0.8974"
          ]
        },
        {
          "output_type": "stream",
          "name": "stderr",
          "text": [
            "WARNING:tensorflow:Can save best model only with val_acc available, skipping.\n"
          ]
        },
        {
          "output_type": "stream",
          "name": "stdout",
          "text": [
            "\b\b\b\b\b\b\b\b\b\b\b\b\b\b\b\b\b\b\b\b\b\b\b\b\b\b\b\b\b\b\b\b\b\b\b\b\b\b\b\b\b\b\b\b\b\b\b\b\b\b\b\b\b\b\b\b\b\b\b\b\b\b\b\b\b\b\b\b\b\b\b\b\b\b\b\b\b\b\b\b\b\b\b\b\r748/748 [==============================] - 17s 23ms/step - loss: 0.2964 - accuracy: 0.8971 - val_loss: 0.4769 - val_accuracy: 0.8415\n",
            "Epoch 33/100\n",
            "747/748 [============================>.] - ETA: 0s - loss: 0.3114 - accuracy: 0.8944"
          ]
        },
        {
          "output_type": "stream",
          "name": "stderr",
          "text": [
            "WARNING:tensorflow:Can save best model only with val_acc available, skipping.\n"
          ]
        },
        {
          "output_type": "stream",
          "name": "stdout",
          "text": [
            "\b\b\b\b\b\b\b\b\b\b\b\b\b\b\b\b\b\b\b\b\b\b\b\b\b\b\b\b\b\b\b\b\b\b\b\b\b\b\b\b\b\b\b\b\b\b\b\b\b\b\b\b\b\b\b\b\b\b\b\b\b\b\b\b\b\b\b\b\b\b\b\b\b\b\b\b\b\b\b\b\b\b\b\b\r748/748 [==============================] - 17s 22ms/step - loss: 0.3114 - accuracy: 0.8944 - val_loss: 0.3147 - val_accuracy: 0.9074\n",
            "Epoch 34/100\n",
            "746/748 [============================>.] - ETA: 0s - loss: 0.3306 - accuracy: 0.8891"
          ]
        },
        {
          "output_type": "stream",
          "name": "stderr",
          "text": [
            "WARNING:tensorflow:Can save best model only with val_acc available, skipping.\n"
          ]
        },
        {
          "output_type": "stream",
          "name": "stdout",
          "text": [
            "\b\b\b\b\b\b\b\b\b\b\b\b\b\b\b\b\b\b\b\b\b\b\b\b\b\b\b\b\b\b\b\b\b\b\b\b\b\b\b\b\b\b\b\b\b\b\b\b\b\b\b\b\b\b\b\b\b\b\b\b\b\b\b\b\b\b\b\b\b\b\b\b\b\b\b\b\b\b\b\b\b\b\b\b\r748/748 [==============================] - 19s 25ms/step - loss: 0.3303 - accuracy: 0.8892 - val_loss: 0.2687 - val_accuracy: 0.9129\n",
            "Epoch 35/100\n",
            "747/748 [============================>.] - ETA: 0s - loss: 0.3006 - accuracy: 0.8953"
          ]
        },
        {
          "output_type": "stream",
          "name": "stderr",
          "text": [
            "WARNING:tensorflow:Can save best model only with val_acc available, skipping.\n"
          ]
        },
        {
          "output_type": "stream",
          "name": "stdout",
          "text": [
            "\b\b\b\b\b\b\b\b\b\b\b\b\b\b\b\b\b\b\b\b\b\b\b\b\b\b\b\b\b\b\b\b\b\b\b\b\b\b\b\b\b\b\b\b\b\b\b\b\b\b\b\b\b\b\b\b\b\b\b\b\b\b\b\b\b\b\b\b\b\b\b\b\b\b\b\b\b\b\b\b\b\b\b\b\r748/748 [==============================] - 17s 22ms/step - loss: 0.3019 - accuracy: 0.8952 - val_loss: 0.2564 - val_accuracy: 0.9171\n",
            "Epoch 36/100\n",
            "747/748 [============================>.] - ETA: 0s - loss: 0.3107 - accuracy: 0.8919"
          ]
        },
        {
          "output_type": "stream",
          "name": "stderr",
          "text": [
            "WARNING:tensorflow:Can save best model only with val_acc available, skipping.\n"
          ]
        },
        {
          "output_type": "stream",
          "name": "stdout",
          "text": [
            "\b\b\b\b\b\b\b\b\b\b\b\b\b\b\b\b\b\b\b\b\b\b\b\b\b\b\b\b\b\b\b\b\b\b\b\b\b\b\b\b\b\b\b\b\b\b\b\b\b\b\b\b\b\b\b\b\b\b\b\b\b\b\b\b\b\b\b\b\b\b\b\b\b\b\b\b\b\b\b\b\b\b\b\b\r748/748 [==============================] - 17s 23ms/step - loss: 0.3106 - accuracy: 0.8919 - val_loss: 0.2519 - val_accuracy: 0.9186\n",
            "Epoch 37/100\n",
            "747/748 [============================>.] - ETA: 0s - loss: 0.2697 - accuracy: 0.9067"
          ]
        },
        {
          "output_type": "stream",
          "name": "stderr",
          "text": [
            "WARNING:tensorflow:Can save best model only with val_acc available, skipping.\n"
          ]
        },
        {
          "output_type": "stream",
          "name": "stdout",
          "text": [
            "\b\b\b\b\b\b\b\b\b\b\b\b\b\b\b\b\b\b\b\b\b\b\b\b\b\b\b\b\b\b\b\b\b\b\b\b\b\b\b\b\b\b\b\b\b\b\b\b\b\b\b\b\b\b\b\b\b\b\b\b\b\b\b\b\b\b\b\b\b\b\b\b\b\b\b\b\b\b\b\b\b\b\b\b\r748/748 [==============================] - 18s 24ms/step - loss: 0.2698 - accuracy: 0.9066 - val_loss: 0.2563 - val_accuracy: 0.9214\n",
            "Epoch 38/100\n",
            "747/748 [============================>.] - ETA: 0s - loss: 0.2971 - accuracy: 0.8986"
          ]
        },
        {
          "output_type": "stream",
          "name": "stderr",
          "text": [
            "WARNING:tensorflow:Can save best model only with val_acc available, skipping.\n"
          ]
        },
        {
          "output_type": "stream",
          "name": "stdout",
          "text": [
            "\b\b\b\b\b\b\b\b\b\b\b\b\b\b\b\b\b\b\b\b\b\b\b\b\b\b\b\b\b\b\b\b\b\b\b\b\b\b\b\b\b\b\b\b\b\b\b\b\b\b\b\b\b\b\b\b\b\b\b\b\b\b\b\b\b\b\b\b\b\b\b\b\b\b\b\b\b\b\b\b\b\b\b\b\r748/748 [==============================] - 18s 23ms/step - loss: 0.2970 - accuracy: 0.8986 - val_loss: 0.3306 - val_accuracy: 0.8926\n",
            "Epoch 39/100\n",
            "747/748 [============================>.] - ETA: 0s - loss: 0.3185 - accuracy: 0.8930"
          ]
        },
        {
          "output_type": "stream",
          "name": "stderr",
          "text": [
            "WARNING:tensorflow:Can save best model only with val_acc available, skipping.\n"
          ]
        },
        {
          "output_type": "stream",
          "name": "stdout",
          "text": [
            "\b\b\b\b\b\b\b\b\b\b\b\b\b\b\b\b\b\b\b\b\b\b\b\b\b\b\b\b\b\b\b\b\b\b\b\b\b\b\b\b\b\b\b\b\b\b\b\b\b\b\b\b\b\b\b\b\b\b\b\b\b\b\b\b\b\b\b\b\b\b\b\b\b\b\b\b\b\b\b\b\b\b\b\b\r748/748 [==============================] - 17s 22ms/step - loss: 0.3184 - accuracy: 0.8931 - val_loss: 0.2867 - val_accuracy: 0.9085\n",
            "Epoch 40/100\n",
            "747/748 [============================>.] - ETA: 0s - loss: 0.2748 - accuracy: 0.9046"
          ]
        },
        {
          "output_type": "stream",
          "name": "stderr",
          "text": [
            "WARNING:tensorflow:Can save best model only with val_acc available, skipping.\n"
          ]
        },
        {
          "output_type": "stream",
          "name": "stdout",
          "text": [
            "\b\b\b\b\b\b\b\b\b\b\b\b\b\b\b\b\b\b\b\b\b\b\b\b\b\b\b\b\b\b\b\b\b\b\b\b\b\b\b\b\b\b\b\b\b\b\b\b\b\b\b\b\b\b\b\b\b\b\b\b\b\b\b\b\b\b\b\b\b\b\b\b\b\b\b\b\b\b\b\b\b\b\b\b\r748/748 [==============================] - 17s 23ms/step - loss: 0.2750 - accuracy: 0.9045 - val_loss: 0.3153 - val_accuracy: 0.9013\n",
            "Epoch 41/100\n",
            "747/748 [============================>.] - ETA: 0s - loss: 0.3011 - accuracy: 0.8977"
          ]
        },
        {
          "output_type": "stream",
          "name": "stderr",
          "text": [
            "WARNING:tensorflow:Can save best model only with val_acc available, skipping.\n"
          ]
        },
        {
          "output_type": "stream",
          "name": "stdout",
          "text": [
            "\b\b\b\b\b\b\b\b\b\b\b\b\b\b\b\b\b\b\b\b\b\b\b\b\b\b\b\b\b\b\b\b\b\b\b\b\b\b\b\b\b\b\b\b\b\b\b\b\b\b\b\b\b\b\b\b\b\b\b\b\b\b\b\b\b\b\b\b\b\b\b\b\b\b\b\b\b\b\b\b\b\b\b\b\r748/748 [==============================] - 17s 23ms/step - loss: 0.3011 - accuracy: 0.8977 - val_loss: 0.2682 - val_accuracy: 0.9100\n",
            "Epoch 42/100\n",
            "745/748 [============================>.] - ETA: 0s - loss: 0.2919 - accuracy: 0.9021"
          ]
        },
        {
          "output_type": "stream",
          "name": "stderr",
          "text": [
            "WARNING:tensorflow:Can save best model only with val_acc available, skipping.\n"
          ]
        },
        {
          "output_type": "stream",
          "name": "stdout",
          "text": [
            "\b\b\b\b\b\b\b\b\b\b\b\b\b\b\b\b\b\b\b\b\b\b\b\b\b\b\b\b\b\b\b\b\b\b\b\b\b\b\b\b\b\b\b\b\b\b\b\b\b\b\b\b\b\b\b\b\b\b\b\b\b\b\b\b\b\b\b\b\b\b\b\b\b\b\b\b\b\b\b\b\b\b\b\b\r748/748 [==============================] - 18s 24ms/step - loss: 0.2922 - accuracy: 0.9019 - val_loss: 0.3864 - val_accuracy: 0.8699\n",
            "Epoch 43/100\n",
            "748/748 [==============================] - ETA: 0s - loss: 0.2845 - accuracy: 0.9024"
          ]
        },
        {
          "output_type": "stream",
          "name": "stderr",
          "text": [
            "WARNING:tensorflow:Can save best model only with val_acc available, skipping.\n"
          ]
        },
        {
          "output_type": "stream",
          "name": "stdout",
          "text": [
            "\b\b\b\b\b\b\b\b\b\b\b\b\b\b\b\b\b\b\b\b\b\b\b\b\b\b\b\b\b\b\b\b\b\b\b\b\b\b\b\b\b\b\b\b\b\b\b\b\b\b\b\b\b\b\b\b\b\b\b\b\b\b\b\b\b\b\b\b\b\b\b\b\b\b\b\b\b\b\b\b\b\b\b\b\r748/748 [==============================] - 17s 23ms/step - loss: 0.2845 - accuracy: 0.9024 - val_loss: 0.2501 - val_accuracy: 0.9293\n",
            "Epoch 44/100\n",
            "748/748 [==============================] - ETA: 0s - loss: 0.5343 - accuracy: 0.8447"
          ]
        },
        {
          "output_type": "stream",
          "name": "stderr",
          "text": [
            "WARNING:tensorflow:Can save best model only with val_acc available, skipping.\n"
          ]
        },
        {
          "output_type": "stream",
          "name": "stdout",
          "text": [
            "\b\b\b\b\b\b\b\b\b\b\b\b\b\b\b\b\b\b\b\b\b\b\b\b\b\b\b\b\b\b\b\b\b\b\b\b\b\b\b\b\b\b\b\b\b\b\b\b\b\b\b\b\b\b\b\b\b\b\b\b\b\b\b\b\b\b\b\b\b\b\b\b\b\b\b\b\b\b\b\b\b\b\b\b\r748/748 [==============================] - 17s 22ms/step - loss: 0.5343 - accuracy: 0.8447 - val_loss: 1.9764 - val_accuracy: 0.1838\n",
            "Epoch 45/100\n",
            "745/748 [============================>.] - ETA: 0s - loss: 1.4542 - accuracy: 0.4385"
          ]
        },
        {
          "output_type": "stream",
          "name": "stderr",
          "text": [
            "WARNING:tensorflow:Can save best model only with val_acc available, skipping.\n"
          ]
        },
        {
          "output_type": "stream",
          "name": "stdout",
          "text": [
            "\b\b\b\b\b\b\b\b\b\b\b\b\b\b\b\b\b\b\b\b\b\b\b\b\b\b\b\b\b\b\b\b\b\b\b\b\b\b\b\b\b\b\b\b\b\b\b\b\b\b\b\b\b\b\b\b\b\b\b\b\b\b\b\b\b\b\b\b\b\b\b\b\b\b\b\b\b\b\b\b\b\b\b\b\r748/748 [==============================] - 17s 23ms/step - loss: 1.4524 - accuracy: 0.4395 - val_loss: 0.7851 - val_accuracy: 0.7166\n",
            "Epoch 46/100\n",
            "748/748 [==============================] - ETA: 0s - loss: 0.7164 - accuracy: 0.7544"
          ]
        },
        {
          "output_type": "stream",
          "name": "stderr",
          "text": [
            "WARNING:tensorflow:Can save best model only with val_acc available, skipping.\n"
          ]
        },
        {
          "output_type": "stream",
          "name": "stdout",
          "text": [
            "\b\b\b\b\b\b\b\b\b\b\b\b\b\b\b\b\b\b\b\b\b\b\b\b\b\b\b\b\b\b\b\b\b\b\b\b\b\b\b\b\b\b\b\b\b\b\b\b\b\b\b\b\b\b\b\b\b\b\b\b\b\b\b\b\b\b\b\b\b\b\b\b\b\b\b\b\b\b\b\b\b\b\b\b\r748/748 [==============================] - 17s 23ms/step - loss: 0.7164 - accuracy: 0.7544 - val_loss: 0.3810 - val_accuracy: 0.8799\n",
            "Epoch 47/100\n",
            "747/748 [============================>.] - ETA: 0s - loss: 0.4128 - accuracy: 0.8605"
          ]
        },
        {
          "output_type": "stream",
          "name": "stderr",
          "text": [
            "WARNING:tensorflow:Can save best model only with val_acc available, skipping.\n"
          ]
        },
        {
          "output_type": "stream",
          "name": "stdout",
          "text": [
            "\b\b\b\b\b\b\b\b\b\b\b\b\b\b\b\b\b\b\b\b\b\b\b\b\b\b\b\b\b\b\b\b\b\b\b\b\b\b\b\b\b\b\b\b\b\b\b\b\b\b\b\b\b\b\b\b\b\b\b\b\b\b\b\b\b\b\b\b\b\b\b\b\b\b\b\b\b\b\b\b\b\b\b\b\r748/748 [==============================] - 17s 23ms/step - loss: 0.4127 - accuracy: 0.8606 - val_loss: 0.3153 - val_accuracy: 0.9028\n",
            "Epoch 48/100\n",
            "748/748 [==============================] - ETA: 0s - loss: 0.3322 - accuracy: 0.8876"
          ]
        },
        {
          "output_type": "stream",
          "name": "stderr",
          "text": [
            "WARNING:tensorflow:Can save best model only with val_acc available, skipping.\n"
          ]
        },
        {
          "output_type": "stream",
          "name": "stdout",
          "text": [
            "\b\b\b\b\b\b\b\b\b\b\b\b\b\b\b\b\b\b\b\b\b\b\b\b\b\b\b\b\b\b\b\b\b\b\b\b\b\b\b\b\b\b\b\b\b\b\b\b\b\b\b\b\b\b\b\b\b\b\b\b\b\b\b\b\b\b\b\b\b\b\b\b\b\b\b\b\b\b\b\b\b\b\b\b\r748/748 [==============================] - 18s 24ms/step - loss: 0.3322 - accuracy: 0.8876 - val_loss: 0.3048 - val_accuracy: 0.9043\n",
            "Epoch 49/100\n",
            "747/748 [============================>.] - ETA: 0s - loss: 0.3107 - accuracy: 0.8947"
          ]
        },
        {
          "output_type": "stream",
          "name": "stderr",
          "text": [
            "WARNING:tensorflow:Can save best model only with val_acc available, skipping.\n"
          ]
        },
        {
          "output_type": "stream",
          "name": "stdout",
          "text": [
            "\b\b\b\b\b\b\b\b\b\b\b\b\b\b\b\b\b\b\b\b\b\b\b\b\b\b\b\b\b\b\b\b\b\b\b\b\b\b\b\b\b\b\b\b\b\b\b\b\b\b\b\b\b\b\b\b\b\b\b\b\b\b\b\b\b\b\b\b\b\b\b\b\b\b\b\b\b\b\b\b\b\b\b\b\r748/748 [==============================] - 19s 25ms/step - loss: 0.3106 - accuracy: 0.8948 - val_loss: 0.2866 - val_accuracy: 0.9038\n",
            "Epoch 50/100\n",
            "748/748 [==============================] - ETA: 0s - loss: 0.3254 - accuracy: 0.8909"
          ]
        },
        {
          "output_type": "stream",
          "name": "stderr",
          "text": [
            "WARNING:tensorflow:Can save best model only with val_acc available, skipping.\n"
          ]
        },
        {
          "output_type": "stream",
          "name": "stdout",
          "text": [
            "\b\b\b\b\b\b\b\b\b\b\b\b\b\b\b\b\b\b\b\b\b\b\b\b\b\b\b\b\b\b\b\b\b\b\b\b\b\b\b\b\b\b\b\b\b\b\b\b\b\b\b\b\b\b\b\b\b\b\b\b\b\b\b\b\b\b\b\b\b\b\b\b\b\b\b\b\b\b\b\b\b\b\b\b\r748/748 [==============================] - 17s 22ms/step - loss: 0.3254 - accuracy: 0.8909 - val_loss: 0.2662 - val_accuracy: 0.9151\n",
            "Epoch 51/100\n",
            "746/748 [============================>.] - ETA: 0s - loss: 0.3147 - accuracy: 0.8944"
          ]
        },
        {
          "output_type": "stream",
          "name": "stderr",
          "text": [
            "WARNING:tensorflow:Can save best model only with val_acc available, skipping.\n"
          ]
        },
        {
          "output_type": "stream",
          "name": "stdout",
          "text": [
            "\b\b\b\b\b\b\b\b\b\b\b\b\b\b\b\b\b\b\b\b\b\b\b\b\b\b\b\b\b\b\b\b\b\b\b\b\b\b\b\b\b\b\b\b\b\b\b\b\b\b\b\b\b\b\b\b\b\b\b\b\b\b\b\b\b\b\b\b\b\b\b\b\b\b\b\b\b\b\b\b\b\b\b\b\r748/748 [==============================] - 18s 23ms/step - loss: 0.3146 - accuracy: 0.8945 - val_loss: 0.2703 - val_accuracy: 0.9139\n",
            "Epoch 52/100\n",
            "747/748 [============================>.] - ETA: 0s - loss: 0.3083 - accuracy: 0.8963"
          ]
        },
        {
          "output_type": "stream",
          "name": "stderr",
          "text": [
            "WARNING:tensorflow:Can save best model only with val_acc available, skipping.\n"
          ]
        },
        {
          "output_type": "stream",
          "name": "stdout",
          "text": [
            "\b\b\b\b\b\b\b\b\b\b\b\b\b\b\b\b\b\b\b\b\b\b\b\b\b\b\b\b\b\b\b\b\b\b\b\b\b\b\b\b\b\b\b\b\b\b\b\b\b\b\b\b\b\b\b\b\b\b\b\b\b\b\b\b\b\b\b\b\b\b\b\b\b\b\b\b\b\b\b\b\b\b\b\b\r748/748 [==============================] - 17s 22ms/step - loss: 0.3085 - accuracy: 0.8963 - val_loss: 0.2864 - val_accuracy: 0.9054\n",
            "Epoch 53/100\n",
            "746/748 [============================>.] - ETA: 0s - loss: 0.3061 - accuracy: 0.8961"
          ]
        },
        {
          "output_type": "stream",
          "name": "stderr",
          "text": [
            "WARNING:tensorflow:Can save best model only with val_acc available, skipping.\n"
          ]
        },
        {
          "output_type": "stream",
          "name": "stdout",
          "text": [
            "\b\b\b\b\b\b\b\b\b\b\b\b\b\b\b\b\b\b\b\b\b\b\b\b\b\b\b\b\b\b\b\b\b\b\b\b\b\b\b\b\b\b\b\b\b\b\b\b\b\b\b\b\b\b\b\b\b\b\b\b\b\b\b\b\b\b\b\b\b\b\b\b\b\b\b\b\b\b\b\b\b\b\b\b\r748/748 [==============================] - 18s 24ms/step - loss: 0.3061 - accuracy: 0.8961 - val_loss: 0.2712 - val_accuracy: 0.9119\n",
            "Duration: 0:15:28.307720\n"
          ]
        }
      ]
    },
    {
      "cell_type": "code",
      "source": [
        "#Evaluating the model\n",
        "plt.plot(history.history['accuracy'])\n",
        "\n",
        "plt.plot(history.history['val_accuracy'])\n",
        "\n",
        "plt.title('model accuracy')\n",
        "\n",
        "plt.ylabel('accuracy')\n",
        "\n",
        "plt.xlabel('epoch')\n",
        "\n",
        "plt.legend(['train', 'val'], loc='upper left')\n",
        "\n",
        "plt.show()"
      ],
      "metadata": {
        "colab": {
          "base_uri": "https://localhost:8080/",
          "height": 472
        },
        "id": "xHKh8xF0TI81",
        "outputId": "2f7f684d-16d3-4c51-86e0-327e31ebf9f3"
      },
      "execution_count": 66,
      "outputs": [
        {
          "output_type": "display_data",
          "data": {
            "text/plain": [
              "<Figure size 640x480 with 1 Axes>"
            ],
            "image/png": "[encoded data removed]"
          },
          "metadata": {}
        }
      ]
    },
    {
      "cell_type": "code",
      "source": [
        "plt.plot(history.history['loss'])\n",
        "\n",
        "plt.plot(history.history['val_loss'])\n",
        "\n",
        "plt.title('model loss')\n",
        "\n",
        "plt.ylabel('loss')\n",
        "\n",
        "plt.xlabel('epoch')\n",
        "\n",
        "plt.legend(['train', 'val'], loc='upper left')\n",
        "\n",
        "plt.show()"
      ],
      "metadata": {
        "colab": {
          "base_uri": "https://localhost:8080/",
          "height": 472
        },
        "id": "YOe-XJAmb1UL",
        "outputId": "c3e6da22-f2c3-49de-a9c2-f92c155ca9bc"
      },
      "execution_count": 67,
      "outputs": [
        {
          "output_type": "display_data",
          "data": {
            "text/plain": [
              "<Figure size 640x480 with 1 Axes>"
            ],
            "image/png": "[encoded data removed]"
          },
          "metadata": {}
        }
      ]
    },
    {
      "cell_type": "code",
      "source": [
        "# saving the model\n",
        "model.save('skin_cancer.h5')\n",
        "print('Model Saved!')"
      ],
      "metadata": {
        "colab": {
          "base_uri": "https://localhost:8080/"
        },
        "id": "8ylZRkDcb7J9",
        "outputId": "567ba8cb-8ad1-4475-933c-b44ae6ac8725"
      },
      "execution_count": 68,
      "outputs": [
        {
          "output_type": "stream",
          "name": "stdout",
          "text": [
            "Model Saved!\n"
          ]
        }
      ]
    },
    {
      "cell_type": "code",
      "source": [
        "#load the model\n",
        "model.load_weights('skin_cancer.h5')"
      ],
      "metadata": {
        "id": "ueO9s5xzb-rR"
      },
      "execution_count": 69,
      "outputs": []
    },
    {
      "cell_type": "code",
      "source": [
        "x_test=np.array(x_test).reshape(-1,28,28,3)\n",
        "\n",
        "loss, acc = model.evaluate(x_test, y_test, verbose=2)"
      ],
      "metadata": {
        "colab": {
          "base_uri": "https://localhost:8080/"
        },
        "id": "IMhHpdENcEza",
        "outputId": "58b9ba1e-a967-4ab1-9e1d-1547b1921cf9"
      },
      "execution_count": 70,
      "outputs": [
        {
          "output_type": "stream",
          "name": "stdout",
          "text": [
            "234/234 - 2s - loss: 0.2334 - accuracy: 0.9260 - 2s/epoch - 7ms/step\n"
          ]
        }
      ]
    },
    {
      "cell_type": "code",
      "source": [
        "model.evaluate(x_train,y_train)"
      ],
      "metadata": {
        "colab": {
          "base_uri": "https://localhost:8080/"
        },
        "id": "Sogq4N25cVAn",
        "outputId": "7bdc23e1-0a95-4037-fa04-cf0b28bfb5b4"
      },
      "execution_count": 71,
      "outputs": [
        {
          "output_type": "stream",
          "name": "stdout",
          "text": [
            "935/935 [==============================] - 8s 8ms/step - loss: 0.1604 - accuracy: 0.9497\n"
          ]
        },
        {
          "output_type": "execute_result",
          "data": {
            "text/plain": [
              "[0.16044855117797852, 0.9496956467628479]"
            ]
          },
          "metadata": {},
          "execution_count": 71
        }
      ]
    },
    {
      "cell_type": "code",
      "source": [
        "from sklearn.metrics import confusion_matrix\n",
        "\n",
        "y_pred = model.predict(x_test)\n",
        "y_pred = np.argmax(y_pred, axis=1)\n",
        "\n",
        "confusion_mat = confusion_matrix(y_test, y_pred)"
      ],
      "metadata": {
        "colab": {
          "base_uri": "https://localhost:8080/"
        },
        "id": "Dj8Q2RIicJVW",
        "outputId": "0f45f5ec-c26d-4b1b-d96a-13c381868a92"
      },
      "execution_count": 72,
      "outputs": [
        {
          "output_type": "stream",
          "name": "stdout",
          "text": [
            "234/234 [==============================] - 2s 10ms/step\n"
          ]
        }
      ]
    },
    {
      "cell_type": "code",
      "source": [
        "#the confusion matrix analysis\n",
        "import seaborn as sns\n",
        "import matplotlib.pyplot as plt\n",
        "fig, ax = plt.subplots(figsize=(10,10))\n",
        "\n",
        "\n",
        "ax = sns.heatmap(confusion_mat, annot=True, cmap='Blues', linewidths=.9, ax=ax)\n",
        "\n",
        "ax.set_title('Confusion Matrix with labels\\n\\n');\n",
        "\n",
        "ax.set_xlabel('\\nPredicted Values')\n",
        "\n",
        "ax.set_ylabel('Actual Values ');\n",
        "\n",
        "ax.xaxis.set_ticklabels(['0','1','2','3','4','5','6'])\n",
        "\n",
        "ax.yaxis.set_ticklabels(['0','1','2','3','4','5','6'])\n",
        "\n",
        "plt.show()"
      ],
      "metadata": {
        "colab": {
          "base_uri": "https://localhost:8080/",
          "height": 930
        },
        "id": "xXz1_sdYeE1s",
        "outputId": "4350fd50-372e-4c7e-808a-179c265351af"
      },
      "execution_count": 73,
      "outputs": [
        {
          "output_type": "display_data",
          "data": {
            "text/plain": [
              "<Figure size 1000x1000 with 2 Axes>"
            ],
            "image/png": "[encoded data removed]"
          },
          "metadata": {}
        }
      ]
    },
    {
      "cell_type": "code",
      "source": [
        "import seaborn as sns\n",
        "import matplotlib.pyplot as plt\n",
        "fig, ax = plt.subplots(figsize=(10,10))\n",
        "\n",
        "\n",
        "ax = sns.heatmap(confusion_mat/np.sum(confusion_mat), annot=True, fmt='.2%', cmap='Blues', linewidths=.9, ax=ax)\n",
        "\n",
        "ax.set_title('Confusion Matrix with labels\\n\\n');\n",
        "\n",
        "ax.set_xlabel('\\nPredicted Values')\n",
        "\n",
        "ax.set_ylabel('Actual Values ');\n",
        "\n",
        "ax.xaxis.set_ticklabels(['0','1','2','3','4','5','6'])\n",
        "\n",
        "ax.yaxis.set_ticklabels(['0','1','2','3','4','5','6'])\n",
        "\n",
        "plt.show()"
      ],
      "metadata": {
        "colab": {
          "base_uri": "https://localhost:8080/",
          "height": 930
        },
        "id": "X0QSGmVMeJEl",
        "outputId": "314c7dcf-095b-4897-b115-d704d65d5932"
      },
      "execution_count": 74,
      "outputs": [
        {
          "output_type": "display_data",
          "data": {
            "text/plain": [
              "<Figure size 1000x1000 with 2 Axes>"
            ],
            "image/png": "[encoded data removed]"
          },
          "metadata": {}
        }
      ]
    },
    {
      "cell_type": "code",
      "source": [
        "#test a sample image to evaluate\n",
        "import PIL\n",
        "\n",
        "image=PIL.Image.open('skin.jpg')\n",
        "\n",
        "image=image.resize((28,28))\n",
        "\n",
        "img=x_test[1]\n",
        "\n",
        "img=np.array(image).reshape(-1,28,28,3)\n",
        "\n",
        "result=model.predict(img)\n",
        "\n",
        "print(result[0])\n",
        "\n",
        "result=result.tolist()\n",
        "\n",
        "max_prob=max(result[0])\n",
        "\n",
        "class_ind=result[0].index(max_prob)\n",
        "\n",
        "print(classes[class_ind])\n",
        "image.show()"
      ],
      "metadata": {
        "colab": {
          "base_uri": "https://localhost:8080/",
          "height": 119
        },
        "id": "yo8rh_1wehaN",
        "outputId": "48d204b6-ae17-4c45-dcbb-66ab78a077e9"
      },
      "execution_count": 75,
      "outputs": [
        {
          "output_type": "stream",
          "name": "stdout",
          "text": [
            "1/1 [==============================] - 0s 23ms/step\n",
            "[3.2478928e-09 3.9573324e-23 7.8095809e-02 3.7629584e-29 3.4817475e-01\n",
            " 1.8307181e-14 5.7372952e-01]\n",
            "('ml', 'melanoma')\n"
          ]
        },
        {
          "output_type": "display_data",
          "data": {
            "text/plain": [
              "<PIL.Image.Image image mode=RGB size=28x28 at 0x7A09D661F0D0>"
            ],
            "image/png": "[encoded data removed]"
          },
          "metadata": {}
        }
      ]
    }
  ]
}